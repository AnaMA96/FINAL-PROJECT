{
 "cells": [
  {
   "cell_type": "code",
   "execution_count": 1,
   "metadata": {},
   "outputs": [],
   "source": [
    "import pandas as pd\n",
    "import numpy as pd\n",
    "\n",
    "import pickle\n",
    "import joblib \n",
    "\n",
    "from pydub import AudioSegment\n",
    "import numpy as np\n",
    "from scipy.io.wavfile import read\n",
    "from scipy.fftpack import fft\n",
    "import pydub\n",
    "from scipy import signal\n",
    "import matplotlib.pyplot as plt\n",
    "import pandas as pd\n",
    "from sklearn.ensemble import GradientBoostingClassifier, RandomForestClassifier\n",
    "from sklearn.model_selection import train_test_split\n",
    "from sklearn.metrics import accuracy_score\n",
    "import speech_recognition as sr"
   ]
  },
  {
   "cell_type": "code",
   "execution_count": 2,
   "metadata": {},
   "outputs": [],
   "source": [
    "data = pd.read_csv(\"../downloads/Medley-solos-DB_metadata.csv\")\n",
    "df = pd.DataFrame(data)"
   ]
  },
  {
   "cell_type": "code",
   "execution_count": 3,
   "metadata": {},
   "outputs": [
    {
     "data": {
      "text/html": [
       "<div>\n",
       "<style scoped>\n",
       "    .dataframe tbody tr th:only-of-type {\n",
       "        vertical-align: middle;\n",
       "    }\n",
       "\n",
       "    .dataframe tbody tr th {\n",
       "        vertical-align: top;\n",
       "    }\n",
       "\n",
       "    .dataframe thead th {\n",
       "        text-align: right;\n",
       "    }\n",
       "</style>\n",
       "<table border=\"1\" class=\"dataframe\">\n",
       "  <thead>\n",
       "    <tr style=\"text-align: right;\">\n",
       "      <th></th>\n",
       "      <th>subset</th>\n",
       "      <th>instrument</th>\n",
       "      <th>instrument_id</th>\n",
       "      <th>song_id</th>\n",
       "      <th>uuid4</th>\n",
       "    </tr>\n",
       "  </thead>\n",
       "  <tbody>\n",
       "    <tr>\n",
       "      <th>0</th>\n",
       "      <td>test</td>\n",
       "      <td>clarinet</td>\n",
       "      <td>0</td>\n",
       "      <td>0</td>\n",
       "      <td>0e4371ac-1c6a-51ab-fdb7-f8abd5fbf1a3</td>\n",
       "    </tr>\n",
       "    <tr>\n",
       "      <th>1</th>\n",
       "      <td>test</td>\n",
       "      <td>clarinet</td>\n",
       "      <td>0</td>\n",
       "      <td>0</td>\n",
       "      <td>33383119-fd64-59c1-f596-d1a23e8a0eff</td>\n",
       "    </tr>\n",
       "    <tr>\n",
       "      <th>2</th>\n",
       "      <td>test</td>\n",
       "      <td>clarinet</td>\n",
       "      <td>0</td>\n",
       "      <td>0</td>\n",
       "      <td>b2b7a288-e169-5642-fced-b509c06b11fc</td>\n",
       "    </tr>\n",
       "    <tr>\n",
       "      <th>3</th>\n",
       "      <td>test</td>\n",
       "      <td>clarinet</td>\n",
       "      <td>0</td>\n",
       "      <td>0</td>\n",
       "      <td>151b6ee4-313a-58d9-fbcb-bab73e0d426b</td>\n",
       "    </tr>\n",
       "    <tr>\n",
       "      <th>4</th>\n",
       "      <td>test</td>\n",
       "      <td>clarinet</td>\n",
       "      <td>0</td>\n",
       "      <td>0</td>\n",
       "      <td>b43999d1-9b5e-557f-f9bc-1b3759659858</td>\n",
       "    </tr>\n",
       "  </tbody>\n",
       "</table>\n",
       "</div>"
      ],
      "text/plain": [
       "  subset instrument  instrument_id  song_id  \\\n",
       "0   test   clarinet              0        0   \n",
       "1   test   clarinet              0        0   \n",
       "2   test   clarinet              0        0   \n",
       "3   test   clarinet              0        0   \n",
       "4   test   clarinet              0        0   \n",
       "\n",
       "                                  uuid4  \n",
       "0  0e4371ac-1c6a-51ab-fdb7-f8abd5fbf1a3  \n",
       "1  33383119-fd64-59c1-f596-d1a23e8a0eff  \n",
       "2  b2b7a288-e169-5642-fced-b509c06b11fc  \n",
       "3  151b6ee4-313a-58d9-fbcb-bab73e0d426b  \n",
       "4  b43999d1-9b5e-557f-f9bc-1b3759659858  "
      ]
     },
     "execution_count": 3,
     "metadata": {},
     "output_type": "execute_result"
    }
   ],
   "source": [
    "df.head()"
   ]
  },
  {
   "cell_type": "code",
   "execution_count": 4,
   "metadata": {},
   "outputs": [
    {
     "data": {
      "text/html": [
       "<div>\n",
       "<style scoped>\n",
       "    .dataframe tbody tr th:only-of-type {\n",
       "        vertical-align: middle;\n",
       "    }\n",
       "\n",
       "    .dataframe tbody tr th {\n",
       "        vertical-align: top;\n",
       "    }\n",
       "\n",
       "    .dataframe thead th {\n",
       "        text-align: right;\n",
       "    }\n",
       "</style>\n",
       "<table border=\"1\" class=\"dataframe\">\n",
       "  <thead>\n",
       "    <tr style=\"text-align: right;\">\n",
       "      <th></th>\n",
       "      <th>subset</th>\n",
       "      <th>instrument</th>\n",
       "      <th>instrument_id</th>\n",
       "      <th>song_id</th>\n",
       "      <th>uuid4</th>\n",
       "    </tr>\n",
       "  </thead>\n",
       "  <tbody>\n",
       "    <tr>\n",
       "      <th>0</th>\n",
       "      <td>test</td>\n",
       "      <td>clarinet</td>\n",
       "      <td>0</td>\n",
       "      <td>0</td>\n",
       "      <td>0e4371ac-1c6a-51ab-fdb7-f8abd5fbf1a3</td>\n",
       "    </tr>\n",
       "    <tr>\n",
       "      <th>1</th>\n",
       "      <td>test</td>\n",
       "      <td>clarinet</td>\n",
       "      <td>0</td>\n",
       "      <td>0</td>\n",
       "      <td>33383119-fd64-59c1-f596-d1a23e8a0eff</td>\n",
       "    </tr>\n",
       "    <tr>\n",
       "      <th>2</th>\n",
       "      <td>test</td>\n",
       "      <td>clarinet</td>\n",
       "      <td>0</td>\n",
       "      <td>0</td>\n",
       "      <td>b2b7a288-e169-5642-fced-b509c06b11fc</td>\n",
       "    </tr>\n",
       "    <tr>\n",
       "      <th>3</th>\n",
       "      <td>test</td>\n",
       "      <td>clarinet</td>\n",
       "      <td>0</td>\n",
       "      <td>0</td>\n",
       "      <td>151b6ee4-313a-58d9-fbcb-bab73e0d426b</td>\n",
       "    </tr>\n",
       "    <tr>\n",
       "      <th>4</th>\n",
       "      <td>test</td>\n",
       "      <td>clarinet</td>\n",
       "      <td>0</td>\n",
       "      <td>0</td>\n",
       "      <td>b43999d1-9b5e-557f-f9bc-1b3759659858</td>\n",
       "    </tr>\n",
       "  </tbody>\n",
       "</table>\n",
       "</div>"
      ],
      "text/plain": [
       "  subset instrument  instrument_id  song_id  \\\n",
       "0   test   clarinet              0        0   \n",
       "1   test   clarinet              0        0   \n",
       "2   test   clarinet              0        0   \n",
       "3   test   clarinet              0        0   \n",
       "4   test   clarinet              0        0   \n",
       "\n",
       "                                  uuid4  \n",
       "0  0e4371ac-1c6a-51ab-fdb7-f8abd5fbf1a3  \n",
       "1  33383119-fd64-59c1-f596-d1a23e8a0eff  \n",
       "2  b2b7a288-e169-5642-fced-b509c06b11fc  \n",
       "3  151b6ee4-313a-58d9-fbcb-bab73e0d426b  \n",
       "4  b43999d1-9b5e-557f-f9bc-1b3759659858  "
      ]
     },
     "execution_count": 4,
     "metadata": {},
     "output_type": "execute_result"
    }
   ],
   "source": [
    "test = df[\"subset\"]==\"test\"\n",
    "df_test= df[test]\n",
    "df_test.head()"
   ]
  },
  {
   "cell_type": "code",
   "execution_count": 5,
   "metadata": {},
   "outputs": [
    {
     "data": {
      "text/html": [
       "<div>\n",
       "<style scoped>\n",
       "    .dataframe tbody tr th:only-of-type {\n",
       "        vertical-align: middle;\n",
       "    }\n",
       "\n",
       "    .dataframe tbody tr th {\n",
       "        vertical-align: top;\n",
       "    }\n",
       "\n",
       "    .dataframe thead th {\n",
       "        text-align: right;\n",
       "    }\n",
       "</style>\n",
       "<table border=\"1\" class=\"dataframe\">\n",
       "  <thead>\n",
       "    <tr style=\"text-align: right;\">\n",
       "      <th></th>\n",
       "      <th>subset</th>\n",
       "      <th>instrument</th>\n",
       "      <th>instrument_id</th>\n",
       "      <th>song_id</th>\n",
       "      <th>uuid4</th>\n",
       "    </tr>\n",
       "  </thead>\n",
       "  <tbody>\n",
       "    <tr>\n",
       "      <th>12236</th>\n",
       "      <td>training</td>\n",
       "      <td>clarinet</td>\n",
       "      <td>0</td>\n",
       "      <td>139</td>\n",
       "      <td>163fd2b1-8e98-515a-f501-4742cc6d066f</td>\n",
       "    </tr>\n",
       "    <tr>\n",
       "      <th>12237</th>\n",
       "      <td>training</td>\n",
       "      <td>clarinet</td>\n",
       "      <td>0</td>\n",
       "      <td>139</td>\n",
       "      <td>36dcb8eb-da46-5d01-fa9d-0f715c389379</td>\n",
       "    </tr>\n",
       "    <tr>\n",
       "      <th>12238</th>\n",
       "      <td>training</td>\n",
       "      <td>clarinet</td>\n",
       "      <td>0</td>\n",
       "      <td>139</td>\n",
       "      <td>9f6d4046-3662-5433-fc44-98c80a428fd8</td>\n",
       "    </tr>\n",
       "    <tr>\n",
       "      <th>12239</th>\n",
       "      <td>training</td>\n",
       "      <td>clarinet</td>\n",
       "      <td>0</td>\n",
       "      <td>139</td>\n",
       "      <td>5ef6a0ee-a092-5d49-f64e-a3454e9ab237</td>\n",
       "    </tr>\n",
       "    <tr>\n",
       "      <th>12240</th>\n",
       "      <td>training</td>\n",
       "      <td>clarinet</td>\n",
       "      <td>0</td>\n",
       "      <td>139</td>\n",
       "      <td>2048e98b-77b2-5b7d-fe6a-780f399e69fe</td>\n",
       "    </tr>\n",
       "  </tbody>\n",
       "</table>\n",
       "</div>"
      ],
      "text/plain": [
       "         subset instrument  instrument_id  song_id  \\\n",
       "12236  training   clarinet              0      139   \n",
       "12237  training   clarinet              0      139   \n",
       "12238  training   clarinet              0      139   \n",
       "12239  training   clarinet              0      139   \n",
       "12240  training   clarinet              0      139   \n",
       "\n",
       "                                      uuid4  \n",
       "12236  163fd2b1-8e98-515a-f501-4742cc6d066f  \n",
       "12237  36dcb8eb-da46-5d01-fa9d-0f715c389379  \n",
       "12238  9f6d4046-3662-5433-fc44-98c80a428fd8  \n",
       "12239  5ef6a0ee-a092-5d49-f64e-a3454e9ab237  \n",
       "12240  2048e98b-77b2-5b7d-fe6a-780f399e69fe  "
      ]
     },
     "execution_count": 5,
     "metadata": {},
     "output_type": "execute_result"
    }
   ],
   "source": [
    "train = df[\"subset\"]==\"training\"\n",
    "df_train= df[train]\n",
    "df_train.head()"
   ]
  },
  {
   "cell_type": "code",
   "execution_count": 6,
   "metadata": {},
   "outputs": [
    {
     "data": {
      "text/html": [
       "<div>\n",
       "<style scoped>\n",
       "    .dataframe tbody tr th:only-of-type {\n",
       "        vertical-align: middle;\n",
       "    }\n",
       "\n",
       "    .dataframe tbody tr th {\n",
       "        vertical-align: top;\n",
       "    }\n",
       "\n",
       "    .dataframe thead th {\n",
       "        text-align: right;\n",
       "    }\n",
       "</style>\n",
       "<table border=\"1\" class=\"dataframe\">\n",
       "  <thead>\n",
       "    <tr style=\"text-align: right;\">\n",
       "      <th></th>\n",
       "      <th>subset</th>\n",
       "      <th>instrument</th>\n",
       "      <th>instrument_id</th>\n",
       "      <th>song_id</th>\n",
       "      <th>uuid4</th>\n",
       "    </tr>\n",
       "  </thead>\n",
       "  <tbody>\n",
       "    <tr>\n",
       "      <th>18077</th>\n",
       "      <td>validation</td>\n",
       "      <td>clarinet</td>\n",
       "      <td>0</td>\n",
       "      <td>200</td>\n",
       "      <td>a8bfed6b-3005-5059-f46d-4f4c5e672850</td>\n",
       "    </tr>\n",
       "    <tr>\n",
       "      <th>18078</th>\n",
       "      <td>validation</td>\n",
       "      <td>clarinet</td>\n",
       "      <td>0</td>\n",
       "      <td>200</td>\n",
       "      <td>cb17632c-ca9f-5b7c-f8fb-58a5f35d48ea</td>\n",
       "    </tr>\n",
       "    <tr>\n",
       "      <th>18079</th>\n",
       "      <td>validation</td>\n",
       "      <td>clarinet</td>\n",
       "      <td>0</td>\n",
       "      <td>200</td>\n",
       "      <td>21b3c105-1704-5e7c-fc2f-1b60fdb9d74b</td>\n",
       "    </tr>\n",
       "    <tr>\n",
       "      <th>18080</th>\n",
       "      <td>validation</td>\n",
       "      <td>clarinet</td>\n",
       "      <td>0</td>\n",
       "      <td>200</td>\n",
       "      <td>ea3fe67c-23fb-5cc5-fdc8-8c90715af8e1</td>\n",
       "    </tr>\n",
       "    <tr>\n",
       "      <th>18081</th>\n",
       "      <td>validation</td>\n",
       "      <td>clarinet</td>\n",
       "      <td>0</td>\n",
       "      <td>200</td>\n",
       "      <td>5aef142f-545d-5ace-f1bb-a96e843a999c</td>\n",
       "    </tr>\n",
       "  </tbody>\n",
       "</table>\n",
       "</div>"
      ],
      "text/plain": [
       "           subset instrument  instrument_id  song_id  \\\n",
       "18077  validation   clarinet              0      200   \n",
       "18078  validation   clarinet              0      200   \n",
       "18079  validation   clarinet              0      200   \n",
       "18080  validation   clarinet              0      200   \n",
       "18081  validation   clarinet              0      200   \n",
       "\n",
       "                                      uuid4  \n",
       "18077  a8bfed6b-3005-5059-f46d-4f4c5e672850  \n",
       "18078  cb17632c-ca9f-5b7c-f8fb-58a5f35d48ea  \n",
       "18079  21b3c105-1704-5e7c-fc2f-1b60fdb9d74b  \n",
       "18080  ea3fe67c-23fb-5cc5-fdc8-8c90715af8e1  \n",
       "18081  5aef142f-545d-5ace-f1bb-a96e843a999c  "
      ]
     },
     "execution_count": 6,
     "metadata": {},
     "output_type": "execute_result"
    }
   ],
   "source": [
    "validation = df[\"subset\"]==\"validation\"\n",
    "df_validation= df[validation]\n",
    "df_validation.head()"
   ]
  },
  {
   "cell_type": "code",
   "execution_count": 7,
   "metadata": {},
   "outputs": [
    {
     "data": {
      "text/plain": [
       "{'clarinet',\n",
       " 'distorted electric guitar',\n",
       " 'female singer',\n",
       " 'flute',\n",
       " 'piano',\n",
       " 'tenor saxophone',\n",
       " 'trumpet',\n",
       " 'violin'}"
      ]
     },
     "execution_count": 7,
     "metadata": {},
     "output_type": "execute_result"
    }
   ],
   "source": [
    "instrument_lst = set(df.instrument.values)  \n",
    "instrument_lst"
   ]
  },
  {
   "cell_type": "code",
   "execution_count": 8,
   "metadata": {},
   "outputs": [],
   "source": [
    "instrument_lst = list(instrument_lst)"
   ]
  },
  {
   "cell_type": "code",
   "execution_count": 9,
   "metadata": {},
   "outputs": [
    {
     "data": {
      "text/plain": [
       "['female singer',\n",
       " 'tenor saxophone',\n",
       " 'violin',\n",
       " 'flute',\n",
       " 'trumpet',\n",
       " 'clarinet',\n",
       " 'distorted electric guitar',\n",
       " 'piano']"
      ]
     },
     "execution_count": 9,
     "metadata": {},
     "output_type": "execute_result"
    }
   ],
   "source": [
    "instrument_lst"
   ]
  },
  {
   "cell_type": "code",
   "execution_count": 10,
   "metadata": {},
   "outputs": [],
   "source": [
    "instruments_train = {}\n",
    "for inst in instrument_lst:\n",
    "    instruments_train.update({inst:list(df['uuid4'][df[\"instrument\"]==inst])})\n"
   ]
  },
  {
   "cell_type": "code",
   "execution_count": 11,
   "metadata": {},
   "outputs": [],
   "source": [
    "#instruments_train['female singer']"
   ]
  },
  {
   "cell_type": "code",
   "execution_count": 12,
   "metadata": {},
   "outputs": [],
   "source": [
    "instruments_test = {}\n",
    "for t in instrument_lst:\n",
    "    instruments_test.update({t:list(df['uuid4'][df[\"instrument\"]==t])})\n",
    "\n"
   ]
  },
  {
   "cell_type": "code",
   "execution_count": 13,
   "metadata": {},
   "outputs": [],
   "source": [
    "instruments_validation = {}\n",
    "for v in instrument_lst:\n",
    "    instruments_validation.update({v:list(df['uuid4'][df[\"instrument\"]==v])})\n",
    "\n"
   ]
  },
  {
   "cell_type": "code",
   "execution_count": 31,
   "metadata": {},
   "outputs": [
    {
     "data": {
      "text/plain": [
       "'./Medley-solos-DB/Medley-solos-DB_test-4_134d339e-06a5-52a0-fc57-f829ce2ee131.wav'"
      ]
     },
     "execution_count": 31,
     "metadata": {},
     "output_type": "execute_result"
    }
   ],
   "source": [
    "import os\n",
    "import re\n",
    "\n",
    "def find(pattern, path):\n",
    "    ''' \n",
    "    Esta función busca el primer fichero que cumpla\n",
    "    el pattern, en el path que recibe.\n",
    "    Si lo encuentra devuelve la ruta del fichero.\n",
    "    '''\n",
    "    for root, dirs, files in os.walk(path):\n",
    "        for name in files:\n",
    "            if bool(re.search(pattern, name)):\n",
    "                return os.path.join(root, name)\n",
    "    return None\n",
    "\n",
    "#find(fr\"(.*){identifier}(.*)\", './Medley-solos-DB/')"
   ]
  },
  {
   "cell_type": "code",
   "execution_count": 34,
   "metadata": {},
   "outputs": [],
   "source": [
    "instruments_train_paths = {}\n",
    "for inst, uuid4_list in instruments_train.items():\n",
    "    inst_path_list = []\n",
    "    for uuid4 in uuid4_list:\n",
    "        path = find(fr\"(.*){uuid4}(.*)\", './Medley-solos-DB')\n",
    "        if path:\n",
    "            inst_path_list.append(path)\n",
    "    instruments_train_paths[inst] = inst_path_list"
   ]
  },
  {
   "cell_type": "code",
   "execution_count": 40,
   "metadata": {},
   "outputs": [
    {
     "name": "stdout",
     "output_type": "stream",
     "text": [
      "female singer\n",
      "tenor saxophone\n",
      "violin\n",
      "flute\n",
      "trumpet\n",
      "clarinet\n",
      "distorted electric guitar\n",
      "piano\n"
     ]
    }
   ],
   "source": [
    "#len(inst_path_list)\n",
    "for key, value in instruments_train_paths.items():\n",
    "    print(key)"
   ]
  },
  {
   "cell_type": "code",
   "execution_count": 44,
   "metadata": {},
   "outputs": [
    {
     "data": {
      "text/plain": [
       "'\\ndef generateDataframe(path):\\n    croak = AudioSegment.from_file(path, format=\\'mp3\\')\\n    croak = croak.set_frame_rate(16000)\\n    output_path = \"output/\"\\n    file_name = \"recording.mp3\"\\n    complete_path = output_path+file_name\\n    croak.export(complete_path, format=\\'mp3\\')\\n    \\n    audioarray = []\\n    for _ in os.listdir(output_path):\\n        aud = AudioSegment.from_file(complete_path, format=\"mp3\")\\n        arr = aud.get_array_of_samples()[:5120]\\n        abs_four = np.abs(fft(arr))\\n        audioarray.append(abs_four)\\n\\n    df_clean = pd.DataFrame({\\'F.Transform\\':audioarray})\\n    return df_clean\\n\\nmodel_p = os.path.join(os.getcwd(),\"models\",\"0.9034-accuracy-20batch_size-50epochs-loss1.0390.h5\")'"
      ]
     },
     "execution_count": 44,
     "metadata": {},
     "output_type": "execute_result"
    }
   ],
   "source": [
    "def dataSetInst(path_lst):\n",
    "    audio_lst = []\n",
    "    audio_lst_fn = []\n",
    "    for path in path_lst:\n",
    "        audio = AudioSegment.from_file(path, format='wav')\n",
    "        audio_lst.append(audio)\n",
    "    for a in audio_lst:\n",
    "        array = a.get_array_of_samples()\n",
    "        four = abs(fft(array))\n",
    "        audio_lst_fn.append(four)\n",
    "    \n",
    "    return audio_lst_fn\n"
   ]
  },
  {
   "cell_type": "code",
   "execution_count": 47,
   "metadata": {},
   "outputs": [],
   "source": [
    "prueba = dataSetInst(instruments_train_paths['violin'][:1])"
   ]
  },
  {
   "cell_type": "code",
   "execution_count": 48,
   "metadata": {},
   "outputs": [
    {
     "data": {
      "text/plain": [
       "[array([2.96518079e+10, 2.53274440e+09, 9.50808540e+09, ...,\n",
       "        4.92047367e+09, 9.50808540e+09, 2.53274440e+09])]"
      ]
     },
     "execution_count": 48,
     "metadata": {},
     "output_type": "execute_result"
    }
   ],
   "source": [
    "prueba"
   ]
  },
  {
   "cell_type": "code",
   "execution_count": null,
   "metadata": {},
   "outputs": [],
   "source": [
    "def integering(x):\n",
    "    x = int(x)\n",
    "    return x"
   ]
  },
  {
   "cell_type": "code",
   "execution_count": null,
   "metadata": {},
   "outputs": [],
   "source": []
  },
  {
   "cell_type": "code",
   "execution_count": null,
   "metadata": {},
   "outputs": [],
   "source": []
  },
  {
   "cell_type": "code",
   "execution_count": null,
   "metadata": {},
   "outputs": [],
   "source": []
  },
  {
   "cell_type": "code",
   "execution_count": null,
   "metadata": {},
   "outputs": [],
   "source": []
  },
  {
   "cell_type": "code",
   "execution_count": null,
   "metadata": {},
   "outputs": [],
   "source": []
  },
  {
   "cell_type": "code",
   "execution_count": null,
   "metadata": {},
   "outputs": [],
   "source": []
  },
  {
   "cell_type": "code",
   "execution_count": null,
   "metadata": {},
   "outputs": [],
   "source": []
  },
  {
   "cell_type": "code",
   "execution_count": null,
   "metadata": {},
   "outputs": [],
   "source": []
  }
 ],
 "metadata": {
  "kernelspec": {
   "display_name": "Python 3",
   "language": "python",
   "name": "python3"
  },
  "language_info": {
   "codemirror_mode": {
    "name": "ipython",
    "version": 3
   },
   "file_extension": ".py",
   "mimetype": "text/x-python",
   "name": "python",
   "nbconvert_exporter": "python",
   "pygments_lexer": "ipython3",
   "version": "3.8.5"
  }
 },
 "nbformat": 4,
 "nbformat_minor": 4
}
