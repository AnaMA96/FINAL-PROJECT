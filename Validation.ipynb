{
 "cells": [
  {
   "cell_type": "code",
   "execution_count": 2,
   "metadata": {},
   "outputs": [],
   "source": [
    "import pandas as pd\n",
    "import numpy as pd\n",
    "\n",
    "import pickle\n",
    "import joblib \n",
    "\n",
    "from pydub import AudioSegment\n",
    "import numpy as np\n",
    "from scipy.io.wavfile import read\n",
    "from scipy.fftpack import fft\n",
    "import pydub\n",
    "from scipy import signal\n",
    "import matplotlib.pyplot as plt\n",
    "import pandas as pd\n",
    "from sklearn.ensemble import GradientBoostingClassifier, RandomForestClassifier\n",
    "from sklearn.model_selection import train_test_split\n",
    "from sklearn.metrics import accuracy_score\n",
    "import speech_recognition as sr"
   ]
  },
  {
   "cell_type": "code",
   "execution_count": 3,
   "metadata": {},
   "outputs": [],
   "source": [
    "data2 = pd.read_csv(\"./Medley-solos-DB/Medley-solos-DB_metadata.csv\")\n",
    "df2 = pd.DataFrame(data2)"
   ]
  },
  {
   "cell_type": "code",
   "execution_count": 4,
   "metadata": {},
   "outputs": [
    {
     "data": {
      "text/html": [
       "<div>\n",
       "<style scoped>\n",
       "    .dataframe tbody tr th:only-of-type {\n",
       "        vertical-align: middle;\n",
       "    }\n",
       "\n",
       "    .dataframe tbody tr th {\n",
       "        vertical-align: top;\n",
       "    }\n",
       "\n",
       "    .dataframe thead th {\n",
       "        text-align: right;\n",
       "    }\n",
       "</style>\n",
       "<table border=\"1\" class=\"dataframe\">\n",
       "  <thead>\n",
       "    <tr style=\"text-align: right;\">\n",
       "      <th></th>\n",
       "      <th>subset</th>\n",
       "      <th>instrument</th>\n",
       "      <th>instrument_id</th>\n",
       "      <th>song_id</th>\n",
       "      <th>uuid4</th>\n",
       "    </tr>\n",
       "  </thead>\n",
       "  <tbody>\n",
       "    <tr>\n",
       "      <th>18077</th>\n",
       "      <td>validation</td>\n",
       "      <td>clarinet</td>\n",
       "      <td>0</td>\n",
       "      <td>200</td>\n",
       "      <td>a8bfed6b-3005-5059-f46d-4f4c5e672850</td>\n",
       "    </tr>\n",
       "    <tr>\n",
       "      <th>18078</th>\n",
       "      <td>validation</td>\n",
       "      <td>clarinet</td>\n",
       "      <td>0</td>\n",
       "      <td>200</td>\n",
       "      <td>cb17632c-ca9f-5b7c-f8fb-58a5f35d48ea</td>\n",
       "    </tr>\n",
       "    <tr>\n",
       "      <th>18079</th>\n",
       "      <td>validation</td>\n",
       "      <td>clarinet</td>\n",
       "      <td>0</td>\n",
       "      <td>200</td>\n",
       "      <td>21b3c105-1704-5e7c-fc2f-1b60fdb9d74b</td>\n",
       "    </tr>\n",
       "    <tr>\n",
       "      <th>18080</th>\n",
       "      <td>validation</td>\n",
       "      <td>clarinet</td>\n",
       "      <td>0</td>\n",
       "      <td>200</td>\n",
       "      <td>ea3fe67c-23fb-5cc5-fdc8-8c90715af8e1</td>\n",
       "    </tr>\n",
       "    <tr>\n",
       "      <th>18081</th>\n",
       "      <td>validation</td>\n",
       "      <td>clarinet</td>\n",
       "      <td>0</td>\n",
       "      <td>200</td>\n",
       "      <td>5aef142f-545d-5ace-f1bb-a96e843a999c</td>\n",
       "    </tr>\n",
       "  </tbody>\n",
       "</table>\n",
       "</div>"
      ],
      "text/plain": [
       "           subset instrument  instrument_id  song_id  \\\n",
       "18077  validation   clarinet              0      200   \n",
       "18078  validation   clarinet              0      200   \n",
       "18079  validation   clarinet              0      200   \n",
       "18080  validation   clarinet              0      200   \n",
       "18081  validation   clarinet              0      200   \n",
       "\n",
       "                                      uuid4  \n",
       "18077  a8bfed6b-3005-5059-f46d-4f4c5e672850  \n",
       "18078  cb17632c-ca9f-5b7c-f8fb-58a5f35d48ea  \n",
       "18079  21b3c105-1704-5e7c-fc2f-1b60fdb9d74b  \n",
       "18080  ea3fe67c-23fb-5cc5-fdc8-8c90715af8e1  \n",
       "18081  5aef142f-545d-5ace-f1bb-a96e843a999c  "
      ]
     },
     "execution_count": 4,
     "metadata": {},
     "output_type": "execute_result"
    }
   ],
   "source": [
    "validation = df2[\"subset\"]==\"validation\"\n",
    "df_validation= df2[validation]\n",
    "df_validation.head()"
   ]
  },
  {
   "cell_type": "code",
   "execution_count": 6,
   "metadata": {},
   "outputs": [
    {
     "data": {
      "text/plain": [
       "{'clarinet',\n",
       " 'distorted electric guitar',\n",
       " 'female singer',\n",
       " 'flute',\n",
       " 'piano',\n",
       " 'tenor saxophone',\n",
       " 'trumpet',\n",
       " 'violin'}"
      ]
     },
     "execution_count": 6,
     "metadata": {},
     "output_type": "execute_result"
    }
   ],
   "source": [
    "instrument_lst = set(df2.instrument.values)  \n",
    "instrument_lst"
   ]
  },
  {
   "cell_type": "code",
   "execution_count": 7,
   "metadata": {},
   "outputs": [],
   "source": [
    "instrument_lst = list(instrument_lst)"
   ]
  },
  {
   "cell_type": "code",
   "execution_count": 8,
   "metadata": {},
   "outputs": [],
   "source": [
    "instruments_validation = {}\n",
    "for inst in instrument_lst:\n",
    "    instruments_validation.update({inst:list(df2['uuid4'][df2[\"instrument\"]==inst])})\n",
    "\n"
   ]
  },
  {
   "cell_type": "code",
   "execution_count": 9,
   "metadata": {},
   "outputs": [],
   "source": [
    "import os\n",
    "import re\n",
    "\n",
    "def find(pattern, path):\n",
    "    ''' \n",
    "    Esta función busca el primer fichero que cumpla\n",
    "    el pattern, en el path que recibe.\n",
    "    Si lo encuentra devuelve la ruta del fichero.\n",
    "    '''\n",
    "    for root, dirs, files in os.walk(path):\n",
    "        for name in files:\n",
    "            if bool(re.search(pattern, name)):\n",
    "                return os.path.join(root, name)\n",
    "    return None\n",
    "\n",
    "#find(fr\"(.*){identifier}(.*)\", './Medley-solos-DB/')"
   ]
  },
  {
   "cell_type": "code",
   "execution_count": 10,
   "metadata": {},
   "outputs": [],
   "source": [
    "instruments_validation_paths = {}\n",
    "for inst, uuid4_list in instruments_validation.items():\n",
    "    inst_path_list = []\n",
    "    for uuid4 in uuid4_list:\n",
    "        path = find(fr\"(.*){uuid4}(.*)\", './Medley-solos-DB')\n",
    "        if path:\n",
    "            inst_path_list.append(path)\n",
    "    instruments_validation_paths[inst] = inst_path_list"
   ]
  },
  {
   "cell_type": "code",
   "execution_count": 12,
   "metadata": {},
   "outputs": [],
   "source": [
    "# Creamos una copia de instruments_test_paths por si modificamos algo por error,\n",
    "# para no tener que volver a ejecutar la celda anterior.\n",
    "instruments_validation_paths_copy = instruments_validation_paths"
   ]
  },
  {
   "cell_type": "code",
   "execution_count": 13,
   "metadata": {},
   "outputs": [],
   "source": [
    "def removeEmptyPaths(inst_paths_dict):\n",
    "    '''\n",
    "    Esta función limpia los instrumentos cuya lista\n",
    "    de paths esté vacía y te devuelve una copia del diccionario limpio.\n",
    "    '''\n",
    "    inst_paths_dict_cleaned = inst_paths_dict\n",
    "    for inst, paths in inst_paths_dict.items():\n",
    "        if not paths:\n",
    "            inst_paths_dict_cleaned.pop(inst)\n",
    "        else:\n",
    "            print(inst)\n",
    "    return inst_paths_dict_cleaned"
   ]
  },
  {
   "cell_type": "code",
   "execution_count": 14,
   "metadata": {},
   "outputs": [
    {
     "name": "stdout",
     "output_type": "stream",
     "text": [
      "piano\n",
      "female singer\n",
      "tenor saxophone\n",
      "flute\n",
      "distorted electric guitar\n",
      "clarinet\n",
      "trumpet\n",
      "violin\n"
     ]
    }
   ],
   "source": [
    "instruments_validation_paths_copy = removeEmptyPaths(instruments_validation_paths_copy)"
   ]
  },
  {
   "cell_type": "code",
   "execution_count": 15,
   "metadata": {},
   "outputs": [],
   "source": [
    "def normalizeInstPathsLen(inst_paths_dict):\n",
    "    '''\n",
    "    Esta función va a homogeneizar la longitud \n",
    "    de las listas de paths que tiene el diccionario\n",
    "    que recibe, va a crear un nuevo diccionario y \n",
    "    lo va a devolver.\n",
    "    '''\n",
    "    insts_paths_normalized_len = {}\n",
    "    min_len = len(list(inst_paths_dict.items())[0][1])\n",
    "    for inst, paths in inst_paths_dict.items():\n",
    "        if min_len > len(paths):\n",
    "            min_len = len(paths)\n",
    "    for inst, paths in inst_paths_dict.items():\n",
    "        insts_paths_normalized_len[inst] = paths[:min_len]\n",
    "        \n",
    "    return insts_paths_normalized_len"
   ]
  },
  {
   "cell_type": "code",
   "execution_count": 16,
   "metadata": {},
   "outputs": [],
   "source": [
    "insts_validation_paths_normalized = normalizeInstPathsLen(instruments_validation_paths_copy)"
   ]
  },
  {
   "cell_type": "code",
   "execution_count": 18,
   "metadata": {},
   "outputs": [],
   "source": [
    "insts_validation_paths_normalized_df = pd.DataFrame.from_dict(insts_validation_paths_normalized)\n",
    "insts_validation_paths_normalized_df = insts_validation_paths_normalized_df.reset_index()"
   ]
  },
  {
   "cell_type": "code",
   "execution_count": 20,
   "metadata": {},
   "outputs": [],
   "source": [
    "insts_validation_paths_normalized_df.to_csv(r'./normalized_validation_data.csv', index = False)"
   ]
  },
  {
   "cell_type": "code",
   "execution_count": 21,
   "metadata": {},
   "outputs": [],
   "source": [
    "def samplesList(path_lst):\n",
    "    '''\n",
    "    Esta función crea una lista de objetos de AudioSegment\n",
    "    por cada fichero de la lista que recibe (path_lst),\n",
    "    después por cada objeto AudioSegment, obtiene la lista\n",
    "    de samples de cada audio, creando una nueva lista y devolviéndola.\n",
    "    '''\n",
    "    audio_lst = []\n",
    "    audio_samples_lst = []\n",
    "    for path in path_lst:\n",
    "        audio = AudioSegment.from_file(path, format='wav')\n",
    "        audio_lst.append(audio)\n",
    "    for a in audio_lst:\n",
    "        audio_samples_lst.append(a.get_array_of_samples())\n",
    "    \n",
    "    return audio_samples_lst\n",
    "\n",
    "def fftList(samples_lst):\n",
    "    '''\n",
    "    Esta función recibe una lista de samples de audios,\n",
    "    hace la transformada de Fourier y devuelve una lista, \n",
    "    con toda la lista transformada.\n",
    "    '''\n",
    "    fft_lst = []\n",
    "    for sample in samples_lst:\n",
    "        four = abs(fft(sample))\n",
    "        fft_lst.append(four)\n",
    "    \n",
    "    return fft_lst"
   ]
  },
  {
   "cell_type": "code",
   "execution_count": 22,
   "metadata": {},
   "outputs": [],
   "source": [
    "# Cogemos el diccionario y por cada instrumento generamos su lista de samples:\n",
    "\n",
    "def instSamples(insts_paths):\n",
    "    '''\n",
    "    Esta función genera un dict de instrumentos\n",
    "    y su lista samples a partir del dict de paths \n",
    "    que recibe y lo devuelve.\n",
    "    '''\n",
    "    inst_samples = {}\n",
    "    for inst, paths in insts_paths.items():\n",
    "        inst_samples[inst] = samplesList(paths)\n",
    "        \n",
    "    return inst_samples"
   ]
  },
  {
   "cell_type": "code",
   "execution_count": 23,
   "metadata": {},
   "outputs": [],
   "source": [
    "insts_validation_samples = instSamples(insts_validation_paths_normalized)"
   ]
  },
  {
   "cell_type": "code",
   "execution_count": 24,
   "metadata": {},
   "outputs": [],
   "source": [
    "def infoSamples(inst_samples):\n",
    "    '''\n",
    "    Esta función halla la longitud máxima, mínima y\n",
    "    la media de los samples de todos los instrumentos.\n",
    "    '''\n",
    "    min_len = len(list(inst_samples.items())[0][1][0])\n",
    "    max_len = 0\n",
    "    joined_samples_lst = []\n",
    "    for inst, samples_lst in inst_samples.items():\n",
    "        joined_samples_lst = joined_samples_lst + samples_lst\n",
    "        \n",
    "    means_lst = []\n",
    "    for samples in joined_samples_lst:\n",
    "        samples_len = len(samples)\n",
    "        means_lst.append(samples_len)\n",
    "        if min_len > samples_len:\n",
    "            min_len = samples_len\n",
    "        if max_len < samples_len:\n",
    "            max_len = samples_len\n",
    "    \n",
    "    print(f'Mean: {sum(means_lst) / len(means_lst)}')\n",
    "    print(f'Max len: {max_len}')\n",
    "    print(f'Min len: {min_len}')"
   ]
  },
  {
   "cell_type": "code",
   "execution_count": 25,
   "metadata": {},
   "outputs": [
    {
     "name": "stdout",
     "output_type": "stream",
     "text": [
      "Mean: 131072.0\n",
      "Max len: 131072\n",
      "Min len: 131072\n"
     ]
    }
   ],
   "source": [
    "infoSamples(insts_validation_samples)"
   ]
  },
  {
   "cell_type": "code",
   "execution_count": 26,
   "metadata": {},
   "outputs": [],
   "source": [
    "def instFft(insts_samples):\n",
    "    '''\n",
    "    Esta función genera un dict de instrumentos\n",
    "    y su lista samples a partir del dict de paths \n",
    "    que recibe y lo devuelve.\n",
    "    '''\n",
    "    inst_ffts = {}\n",
    "    for inst, samples in insts_samples.items():\n",
    "        inst_ffts[inst] = fftList(samples)\n",
    "        \n",
    "    return inst_ffts\n",
    "\n",
    "insts_ffts = instFft(insts_validation_samples)"
   ]
  },
  {
   "cell_type": "code",
   "execution_count": 28,
   "metadata": {},
   "outputs": [],
   "source": [
    "def dataFramer(insts_ffts):\n",
    "    '''\n",
    "    Esta función toma el diccionario que se le pase como argumento\n",
    "    y, por cada entrada del diccionario, crea un dataframe y los concatena \n",
    "    todos.\n",
    "    '''\n",
    "    lst_df = []\n",
    "    for inst, fft_lst in insts_ffts.items():\n",
    "        inst_val = {\"transformed\": fft_lst, \"type\": inst}\n",
    "        lst_df.append(pd.DataFrame(inst_val))\n",
    "    return pd.concat(lst_df).reset_index(drop=True)"
   ]
  },
  {
   "cell_type": "code",
   "execution_count": 29,
   "metadata": {},
   "outputs": [],
   "source": [
    "df_total_validation = dataFramer(insts_ffts)"
   ]
  },
  {
   "cell_type": "code",
   "execution_count": 32,
   "metadata": {},
   "outputs": [],
   "source": [
    "df_total_validation.to_csv(r'./validation.csv')"
   ]
  },
  {
   "cell_type": "code",
   "execution_count": null,
   "metadata": {},
   "outputs": [],
   "source": []
  },
  {
   "cell_type": "code",
   "execution_count": null,
   "metadata": {},
   "outputs": [],
   "source": []
  }
 ],
 "metadata": {
  "kernelspec": {
   "display_name": "Python 3",
   "language": "python",
   "name": "python3"
  },
  "language_info": {
   "codemirror_mode": {
    "name": "ipython",
    "version": 3
   },
   "file_extension": ".py",
   "mimetype": "text/x-python",
   "name": "python",
   "nbconvert_exporter": "python",
   "pygments_lexer": "ipython3",
   "version": "3.8.5"
  }
 },
 "nbformat": 4,
 "nbformat_minor": 4
}
