{
 "cells": [
  {
   "cell_type": "code",
   "execution_count": 22,
   "metadata": {},
   "outputs": [],
   "source": [
    "import pandas as pd\n",
    "import numpy as pd\n",
    "\n",
    "import pickle\n",
    "import joblib \n",
    "\n",
    "from pydub import AudioSegment\n",
    "import numpy as np\n",
    "from scipy.io.wavfile import read\n",
    "from scipy.fftpack import fft\n",
    "import pydub\n",
    "from scipy import signal\n",
    "import matplotlib.pyplot as plt\n",
    "import pandas as pd\n",
    "from sklearn.ensemble import GradientBoostingClassifier, RandomForestClassifier\n",
    "from sklearn.model_selection import train_test_split\n",
    "from sklearn.metrics import accuracy_score\n",
    "import speech_recognition as sr\n",
    "import csv\n",
    "from keras import layers\n",
    "from keras import models\n",
    "from sklearn import preprocessing \n",
    "from keras.layers.normalization import BatchNormalization\n",
    "from keras.models import model_from_json\n",
    "from sklearn import preprocessing\n",
    "from sklearn.model_selection import train_test_split\n",
    "import tensorflow as tf\n",
    "import numpy as np\n",
    "#from audioFeatures import bothDF\n",
    "import ast\n",
    "import os\n",
    "from keras.models import load_model"
   ]
  },
  {
   "cell_type": "code",
   "execution_count": 2,
   "metadata": {},
   "outputs": [],
   "source": [
    "normalized_data = pd.read_csv(\"./normalized-csv/normalized_data.csv\")"
   ]
  },
  {
   "cell_type": "code",
   "execution_count": 3,
   "metadata": {},
   "outputs": [],
   "source": [
    "normalized_data = {\"violin\": [normalized_data['violin'][0]]}"
   ]
  },
  {
   "cell_type": "code",
   "execution_count": 4,
   "metadata": {},
   "outputs": [
    {
     "data": {
      "text/plain": [
       "{'violin': ['./Medley-solos-DB/Medley-solos-DB_test-7_699396f5-fa59-5ba1-f7f9-2359d11cacd6.wav']}"
      ]
     },
     "execution_count": 4,
     "metadata": {},
     "output_type": "execute_result"
    }
   ],
   "source": [
    "normalized_data"
   ]
  },
  {
   "cell_type": "code",
   "execution_count": 5,
   "metadata": {},
   "outputs": [],
   "source": [
    "def samplesList(path_lst):\n",
    "    '''\n",
    "    Esta función crea una lista de objetos de AudioSegment\n",
    "    por cada fichero de la lista que recibe (path_lst),\n",
    "    después por cada objeto AudioSegment, obtiene la lista\n",
    "    de samples de cada audio, creando una nueva lista y devolviéndola.\n",
    "    '''\n",
    "    audio_lst = []\n",
    "    audio_samples_lst = []\n",
    "    for path in path_lst:\n",
    "        audio = AudioSegment.from_file(path, format='wav')\n",
    "        audio_lst.append(audio)\n",
    "    for a in audio_lst:\n",
    "        audio_samples_lst.append(a.get_array_of_samples())\n",
    "    \n",
    "    return audio_samples_lst\n",
    "\n",
    "def fftList(samples_lst):\n",
    "    '''\n",
    "    Esta función recibe una lista de samples de audios,\n",
    "    hace la transformada de Fourier y devuelve una lista, \n",
    "    con toda la lista transformada.\n",
    "    '''\n",
    "    fft_lst = []\n",
    "    for sample in samples_lst:\n",
    "        four = abs(fft(sample))\n",
    "        fft_lst.append(four)\n",
    "    \n",
    "    return fft_lst"
   ]
  },
  {
   "cell_type": "code",
   "execution_count": 6,
   "metadata": {},
   "outputs": [],
   "source": [
    "# Cogemos el diccionario y por cada instrumento generamos su lista de samples:\n",
    "\n",
    "def instSamples(insts_paths):\n",
    "    '''\n",
    "    Esta función genera un dict de instrumentos\n",
    "    y su lista samples a partir del dict de paths \n",
    "    que recibe y lo devuelve.\n",
    "    '''\n",
    "    inst_samples = {}\n",
    "    for inst, paths in insts_paths.items():\n",
    "        inst_samples[inst] = samplesList(paths)\n",
    "        \n",
    "    return inst_samples"
   ]
  },
  {
   "cell_type": "code",
   "execution_count": 7,
   "metadata": {},
   "outputs": [],
   "source": [
    "insts_train_samples = instSamples(normalized_data)"
   ]
  },
  {
   "cell_type": "code",
   "execution_count": 9,
   "metadata": {},
   "outputs": [],
   "source": [
    "def instFft(insts_samples):\n",
    "    '''\n",
    "    Esta función genera un dict de instrumentos\n",
    "    y su lista samples a partir del dict de paths \n",
    "    que recibe y lo devuelve.\n",
    "    '''\n",
    "    inst_ffts = {}\n",
    "    for inst, samples in insts_samples.items():\n",
    "        abs_four = np.abs(fft(samples))\n",
    "        inst_ffts[inst] = abs_four\n",
    "        \n",
    "    return inst_ffts\n",
    "\n",
    "insts_ffts = instFft(insts_train_samples)"
   ]
  },
  {
   "cell_type": "code",
   "execution_count": 10,
   "metadata": {},
   "outputs": [],
   "source": [
    "def dataFramer(insts_ffts):\n",
    "    '''\n",
    "    Esta función toma el diccionario que se le pase como argumento\n",
    "    y, por cada entrada del diccionario, crea un dataframe y los concatena \n",
    "    todos.\n",
    "    '''\n",
    "    lst_df = []\n",
    "    for inst, fft_lst in insts_ffts.items():\n",
    "        inst_tr = {\"transformed\": [fft for fft in fft_lst], \"type\": inst}\n",
    "        lst_df.append(pd.DataFrame(inst_tr))\n",
    "    return pd.concat(lst_df).reset_index(drop=True)"
   ]
  },
  {
   "cell_type": "code",
   "execution_count": 11,
   "metadata": {},
   "outputs": [],
   "source": [
    "df_total = dataFramer(insts_ffts)"
   ]
  },
  {
   "cell_type": "code",
   "execution_count": 12,
   "metadata": {},
   "outputs": [
    {
     "data": {
      "text/html": [
       "<div>\n",
       "<style scoped>\n",
       "    .dataframe tbody tr th:only-of-type {\n",
       "        vertical-align: middle;\n",
       "    }\n",
       "\n",
       "    .dataframe tbody tr th {\n",
       "        vertical-align: top;\n",
       "    }\n",
       "\n",
       "    .dataframe thead th {\n",
       "        text-align: right;\n",
       "    }\n",
       "</style>\n",
       "<table border=\"1\" class=\"dataframe\">\n",
       "  <thead>\n",
       "    <tr style=\"text-align: right;\">\n",
       "      <th></th>\n",
       "      <th>transformed</th>\n",
       "      <th>type</th>\n",
       "    </tr>\n",
       "  </thead>\n",
       "  <tbody>\n",
       "    <tr>\n",
       "      <th>0</th>\n",
       "      <td>[29651807857.0, 2532744396.219857, 9508085404....</td>\n",
       "      <td>violin</td>\n",
       "    </tr>\n",
       "  </tbody>\n",
       "</table>\n",
       "</div>"
      ],
      "text/plain": [
       "                                         transformed    type\n",
       "0  [29651807857.0, 2532744396.219857, 9508085404....  violin"
      ]
     },
     "execution_count": 12,
     "metadata": {},
     "output_type": "execute_result"
    }
   ],
   "source": [
    "df_total.head()"
   ]
  },
  {
   "cell_type": "code",
   "execution_count": 13,
   "metadata": {},
   "outputs": [],
   "source": [
    "df_total.to_pickle(r'./volin_track_validation.csv')"
   ]
  },
  {
   "cell_type": "code",
   "execution_count": 53,
   "metadata": {},
   "outputs": [],
   "source": [
    "from keras.models import load_model\n",
    "new_model = load_model(\"models/0.9829-accuracy-200000-50epochs-loss0.0823.h5\")"
   ]
  },
  {
   "cell_type": "code",
   "execution_count": 54,
   "metadata": {},
   "outputs": [],
   "source": [
    "X_test=np.vstack(df_total['transformed'])    "
   ]
  },
  {
   "cell_type": "code",
   "execution_count": 55,
   "metadata": {},
   "outputs": [
    {
     "data": {
      "text/plain": [
       "(1, 131072)"
      ]
     },
     "execution_count": 55,
     "metadata": {},
     "output_type": "execute_result"
    }
   ],
   "source": [
    "X_test.shape\n",
    "   "
   ]
  },
  {
   "cell_type": "code",
   "execution_count": 64,
   "metadata": {},
   "outputs": [
    {
     "name": "stdout",
     "output_type": "stream",
     "text": [
      "[[3.5682092e-06 4.4985895e-06 4.8419565e-06 7.0850168e-05 1.0181603e-06\n",
      "  1.0566625e-06 6.8041231e-06 9.9990737e-01]]\n"
     ]
    }
   ],
   "source": [
    "pred = new_model.predict(X_test)\n",
    "inst = pred[0].tolist()\n",
    "print(pred)\n",
    "\n"
   ]
  },
  {
   "cell_type": "code",
   "execution_count": 65,
   "metadata": {},
   "outputs": [
    {
     "data": {
      "text/plain": [
       "7"
      ]
     },
     "execution_count": 65,
     "metadata": {},
     "output_type": "execute_result"
    }
   ],
   "source": [
    "hola = inst.index(max(inst))\n",
    "hola"
   ]
  },
  {
   "cell_type": "code",
   "execution_count": 66,
   "metadata": {},
   "outputs": [
    {
     "name": "stdout",
     "output_type": "stream",
     "text": [
      "[3.568209194781957e-06, 4.498589532886399e-06, 4.841956524614943e-06, 7.085016841301695e-05, 1.0181603329328937e-06, 1.0566625405772356e-06, 6.804123131587403e-06, 0.999907374382019]\n"
     ]
    }
   ],
   "source": [
    "print(inst)"
   ]
  },
  {
   "cell_type": "code",
   "execution_count": 67,
   "metadata": {},
   "outputs": [
    {
     "data": {
      "text/plain": [
       "8"
      ]
     },
     "execution_count": 67,
     "metadata": {},
     "output_type": "execute_result"
    }
   ],
   "source": [
    "len(inst)"
   ]
  },
  {
   "cell_type": "code",
   "execution_count": null,
   "metadata": {},
   "outputs": [],
   "source": []
  },
  {
   "cell_type": "code",
   "execution_count": 62,
   "metadata": {},
   "outputs": [
    {
     "data": {
      "text/plain": [
       "[3.568209194781957e-06,\n",
       " 4.498589532886399e-06,\n",
       " 4.841956524614943e-06,\n",
       " 7.085016841301695e-05,\n",
       " 1.0181603329328937e-06,\n",
       " 1.0566625405772356e-06,\n",
       " 6.804123131587403e-06,\n",
       " 0.999907374382019]"
      ]
     },
     "execution_count": 62,
     "metadata": {},
     "output_type": "execute_result"
    }
   ],
   "source": [
    "inst"
   ]
  },
  {
   "cell_type": "code",
   "execution_count": null,
   "metadata": {},
   "outputs": [],
   "source": []
  }
 ],
 "metadata": {
  "kernelspec": {
   "display_name": "Python 3",
   "language": "python",
   "name": "python3"
  },
  "language_info": {
   "codemirror_mode": {
    "name": "ipython",
    "version": 3
   },
   "file_extension": ".py",
   "mimetype": "text/x-python",
   "name": "python",
   "nbconvert_exporter": "python",
   "pygments_lexer": "ipython3",
   "version": "3.8.5"
  }
 },
 "nbformat": 4,
 "nbformat_minor": 4
}
