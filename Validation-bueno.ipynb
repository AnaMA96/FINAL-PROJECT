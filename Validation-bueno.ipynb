{
 "cells": [
  {
   "cell_type": "code",
   "execution_count": 17,
   "metadata": {},
   "outputs": [],
   "source": [
    "import pandas as pd\n",
    "import numpy as pd\n",
    "\n",
    "import pickle\n",
    "import joblib \n",
    "\n",
    "from pydub import AudioSegment\n",
    "import numpy as np\n",
    "from scipy.io.wavfile import read\n",
    "from scipy.fftpack import fft\n",
    "import pydub\n",
    "from scipy import signal\n",
    "import matplotlib.pyplot as plt\n",
    "import pandas as pd\n",
    "from sklearn.ensemble import GradientBoostingClassifier, RandomForestClassifier\n",
    "from sklearn.model_selection import train_test_split\n",
    "from sklearn.metrics import accuracy_score\n",
    "import speech_recognition as sr"
   ]
  },
  {
   "cell_type": "code",
   "execution_count": 29,
   "metadata": {},
   "outputs": [
    {
     "data": {
      "text/plain": [
       "(21571, 5)"
      ]
     },
     "execution_count": 29,
     "metadata": {},
     "output_type": "execute_result"
    }
   ],
   "source": [
    "data2 = pd.read_csv(\"./Medley-solos-DB/Medley-solos-DB_metadata.csv\")\n",
    "df2 = pd.DataFrame(data2)\n",
    "df2.shape"
   ]
  },
  {
   "cell_type": "code",
   "execution_count": 32,
   "metadata": {},
   "outputs": [
    {
     "data": {
      "text/plain": [
       "(3494, 5)"
      ]
     },
     "execution_count": 32,
     "metadata": {},
     "output_type": "execute_result"
    }
   ],
   "source": [
    "validation = df2[\"subset\"]==\"validation\"\n",
    "df_validation= df2[validation]\n",
    "df_validation.shape"
   ]
  },
  {
   "cell_type": "code",
   "execution_count": 33,
   "metadata": {},
   "outputs": [
    {
     "name": "stderr",
     "output_type": "stream",
     "text": [
      "<ipython-input-33-4780b8b1f3cc>:3: SettingWithCopyWarning: \n",
      "A value is trying to be set on a copy of a slice from a DataFrame.\n",
      "Try using .loc[row_indexer,col_indexer] = value instead\n",
      "\n",
      "See the caveats in the documentation: https://pandas.pydata.org/pandas-docs/stable/user_guide/indexing.html#returning-a-view-versus-a-copy\n",
      "  df_validation['uuid4'] = df_validation.apply(lambda row: f\"./Medley-solos-DB/Medley-solos-DB_validation-{row.instrument_id}_{row.uuid4}.wav\", axis = 1)\n"
     ]
    },
    {
     "data": {
      "text/html": [
       "<div>\n",
       "<style scoped>\n",
       "    .dataframe tbody tr th:only-of-type {\n",
       "        vertical-align: middle;\n",
       "    }\n",
       "\n",
       "    .dataframe tbody tr th {\n",
       "        vertical-align: top;\n",
       "    }\n",
       "\n",
       "    .dataframe thead th {\n",
       "        text-align: right;\n",
       "    }\n",
       "</style>\n",
       "<table border=\"1\" class=\"dataframe\">\n",
       "  <thead>\n",
       "    <tr style=\"text-align: right;\">\n",
       "      <th></th>\n",
       "      <th>subset</th>\n",
       "      <th>instrument</th>\n",
       "      <th>instrument_id</th>\n",
       "      <th>song_id</th>\n",
       "      <th>uuid4</th>\n",
       "    </tr>\n",
       "  </thead>\n",
       "  <tbody>\n",
       "    <tr>\n",
       "      <th>18077</th>\n",
       "      <td>validation</td>\n",
       "      <td>clarinet</td>\n",
       "      <td>0</td>\n",
       "      <td>200</td>\n",
       "      <td>./Medley-solos-DB/Medley-solos-DB_validation-0...</td>\n",
       "    </tr>\n",
       "    <tr>\n",
       "      <th>18078</th>\n",
       "      <td>validation</td>\n",
       "      <td>clarinet</td>\n",
       "      <td>0</td>\n",
       "      <td>200</td>\n",
       "      <td>./Medley-solos-DB/Medley-solos-DB_validation-0...</td>\n",
       "    </tr>\n",
       "    <tr>\n",
       "      <th>18079</th>\n",
       "      <td>validation</td>\n",
       "      <td>clarinet</td>\n",
       "      <td>0</td>\n",
       "      <td>200</td>\n",
       "      <td>./Medley-solos-DB/Medley-solos-DB_validation-0...</td>\n",
       "    </tr>\n",
       "    <tr>\n",
       "      <th>18080</th>\n",
       "      <td>validation</td>\n",
       "      <td>clarinet</td>\n",
       "      <td>0</td>\n",
       "      <td>200</td>\n",
       "      <td>./Medley-solos-DB/Medley-solos-DB_validation-0...</td>\n",
       "    </tr>\n",
       "    <tr>\n",
       "      <th>18081</th>\n",
       "      <td>validation</td>\n",
       "      <td>clarinet</td>\n",
       "      <td>0</td>\n",
       "      <td>200</td>\n",
       "      <td>./Medley-solos-DB/Medley-solos-DB_validation-0...</td>\n",
       "    </tr>\n",
       "  </tbody>\n",
       "</table>\n",
       "</div>"
      ],
      "text/plain": [
       "           subset instrument  instrument_id  song_id  \\\n",
       "18077  validation   clarinet              0      200   \n",
       "18078  validation   clarinet              0      200   \n",
       "18079  validation   clarinet              0      200   \n",
       "18080  validation   clarinet              0      200   \n",
       "18081  validation   clarinet              0      200   \n",
       "\n",
       "                                                   uuid4  \n",
       "18077  ./Medley-solos-DB/Medley-solos-DB_validation-0...  \n",
       "18078  ./Medley-solos-DB/Medley-solos-DB_validation-0...  \n",
       "18079  ./Medley-solos-DB/Medley-solos-DB_validation-0...  \n",
       "18080  ./Medley-solos-DB/Medley-solos-DB_validation-0...  \n",
       "18081  ./Medley-solos-DB/Medley-solos-DB_validation-0...  "
      ]
     },
     "execution_count": 33,
     "metadata": {},
     "output_type": "execute_result"
    }
   ],
   "source": [
    "#df_validation = df_validation.apply(lambda df: f\"./Medley-solos-DB_validation-{df['instrument_id']}{df['uuid4']}.wav\")\n",
    "\n",
    "df_validation['uuid4'] = df_validation.apply(lambda row: f\"./Medley-solos-DB/Medley-solos-DB_validation-{row.instrument_id}_{row.uuid4}.wav\", axis = 1)\n",
    "\n",
    "df_validation.head()"
   ]
  },
  {
   "cell_type": "code",
   "execution_count": 41,
   "metadata": {},
   "outputs": [
    {
     "data": {
      "text/plain": [
       "{'clarinet',\n",
       " 'distorted electric guitar',\n",
       " 'female singer',\n",
       " 'flute',\n",
       " 'piano',\n",
       " 'tenor saxophone',\n",
       " 'trumpet',\n",
       " 'violin'}"
      ]
     },
     "execution_count": 41,
     "metadata": {},
     "output_type": "execute_result"
    }
   ],
   "source": [
    "instrument_lst = set(df_validation.instrument.values)  \n",
    "instrument_lst"
   ]
  },
  {
   "cell_type": "code",
   "execution_count": 42,
   "metadata": {},
   "outputs": [],
   "source": [
    "instrument_lst = list(instrument_lst)"
   ]
  },
  {
   "cell_type": "code",
   "execution_count": 43,
   "metadata": {},
   "outputs": [],
   "source": [
    "instruments_validation_paths = {}\n",
    "for inst in instrument_lst:\n",
    "    instruments_validation_paths.update({inst:list(df_validation['uuid4'][df_validation[\"instrument\"]==inst])})\n",
    "\n"
   ]
  },
  {
   "cell_type": "code",
   "execution_count": 46,
   "metadata": {},
   "outputs": [],
   "source": [
    "# Creamos una copia de instruments_test_paths por si modificamos algo por error,\n",
    "# para no tener que volver a ejecutar la celda anterior.\n",
    "instruments_validation_paths_copy = instruments_validation_paths"
   ]
  },
  {
   "cell_type": "code",
   "execution_count": 47,
   "metadata": {},
   "outputs": [],
   "source": [
    "def removeEmptyPaths(inst_paths_dict):\n",
    "    '''\n",
    "    Esta función limpia los instrumentos cuya lista\n",
    "    de paths esté vacía y te devuelve una copia del diccionario limpio.\n",
    "    '''\n",
    "    inst_paths_dict_cleaned = inst_paths_dict\n",
    "    for inst, paths in inst_paths_dict.items():\n",
    "        if not paths:\n",
    "            inst_paths_dict_cleaned.pop(inst)\n",
    "        else:\n",
    "            print(inst)\n",
    "    return inst_paths_dict_cleaned"
   ]
  },
  {
   "cell_type": "code",
   "execution_count": 48,
   "metadata": {},
   "outputs": [
    {
     "name": "stdout",
     "output_type": "stream",
     "text": [
      "distorted electric guitar\n",
      "tenor saxophone\n",
      "trumpet\n",
      "piano\n",
      "flute\n",
      "clarinet\n",
      "female singer\n",
      "violin\n"
     ]
    }
   ],
   "source": [
    "instruments_validation_paths_copy = removeEmptyPaths(instruments_validation_paths_copy)"
   ]
  },
  {
   "cell_type": "code",
   "execution_count": 63,
   "metadata": {},
   "outputs": [],
   "source": [
    "def normalizeInstPathsLen(inst_paths_dict):\n",
    "    '''\n",
    "    Esta función va a homogeneizar la longitud \n",
    "    de las listas de paths que tiene el diccionario\n",
    "    que recibe, va a crear un nuevo diccionario y \n",
    "    lo va a devolver.\n",
    "    '''\n",
    "    insts_paths_normalized_len = {}\n",
    "    min_len = len(list(inst_paths_dict.items())[0][1])\n",
    "    for inst, paths in inst_paths_dict.items():\n",
    "        if min_len > len(paths):\n",
    "            min_len = len(paths)\n",
    "    for inst, paths in inst_paths_dict.items():\n",
    "        insts_paths_normalized_len[inst] = paths[:min_len]\n",
    "        \n",
    "    return insts_paths_normalized_len"
   ]
  },
  {
   "cell_type": "code",
   "execution_count": 64,
   "metadata": {},
   "outputs": [],
   "source": [
    "insts_validation_paths_normalized = normalizeInstPathsLen(instruments_validation_paths_copy)"
   ]
  },
  {
   "cell_type": "code",
   "execution_count": 65,
   "metadata": {},
   "outputs": [
    {
     "data": {
      "text/plain": [
       "{'distorted electric guitar': ['./Medley-solos-DB/Medley-solos-DB_validation-1_dfbe2293-1071-59e0-ff2b-5a506185645b.wav',\n",
       "  './Medley-solos-DB/Medley-solos-DB_validation-1_4b11a51c-05ed-581c-f4da-e62dc0b5c9aa.wav',\n",
       "  './Medley-solos-DB/Medley-solos-DB_validation-1_385bb265-2880-5f32-f792-e48aab6ff982.wav',\n",
       "  './Medley-solos-DB/Medley-solos-DB_validation-1_ed9d1923-8824-52f8-ff3d-705d8a615dd7.wav',\n",
       "  './Medley-solos-DB/Medley-solos-DB_validation-1_3bc0d040-a61b-5d85-f00d-339f0dea9946.wav',\n",
       "  './Medley-solos-DB/Medley-solos-DB_validation-1_28162e9f-78f9-5e13-fdf6-afe91fb71534.wav',\n",
       "  './Medley-solos-DB/Medley-solos-DB_validation-1_a0c452d5-2275-5d2f-f2c8-606b7b1119c7.wav',\n",
       "  './Medley-solos-DB/Medley-solos-DB_validation-1_eb822319-cedd-5f7a-ff02-9334495f8c7a.wav',\n",
       "  './Medley-solos-DB/Medley-solos-DB_validation-1_7211f457-4ec3-5299-fa6a-a64ceeac20c0.wav',\n",
       "  './Medley-solos-DB/Medley-solos-DB_validation-1_93eeb0af-e62c-50d8-fc8e-37951a116d04.wav',\n",
       "  './Medley-solos-DB/Medley-solos-DB_validation-1_0f64b63a-681f-5021-f432-05a57370db47.wav',\n",
       "  './Medley-solos-DB/Medley-solos-DB_validation-1_2cba2216-9188-564f-facf-b04c583c431b.wav',\n",
       "  './Medley-solos-DB/Medley-solos-DB_validation-1_edfdb021-2563-57be-fe10-9c16649ac5ca.wav',\n",
       "  './Medley-solos-DB/Medley-solos-DB_validation-1_6dc91352-d247-5625-f737-7d7201d5f3da.wav',\n",
       "  './Medley-solos-DB/Medley-solos-DB_validation-1_0a0c27bb-2487-5f91-f428-8f3e6f9a1b4b.wav',\n",
       "  './Medley-solos-DB/Medley-solos-DB_validation-1_13db2c84-87f5-5346-f013-53d2c7530454.wav',\n",
       "  './Medley-solos-DB/Medley-solos-DB_validation-1_74d274e9-fc70-56cf-fa06-6ee55cc8db7e.wav',\n",
       "  './Medley-solos-DB/Medley-solos-DB_validation-1_f55a2eaa-ff28-5853-ffca-89b53e6e869d.wav',\n",
       "  './Medley-solos-DB/Medley-solos-DB_validation-1_299506a0-c408-51cd-f0a0-ad02f8c0120e.wav',\n",
       "  './Medley-solos-DB/Medley-solos-DB_validation-1_c8307b1b-2e79-581c-f71b-772a40b90c0f.wav',\n",
       "  './Medley-solos-DB/Medley-solos-DB_validation-1_2dff2870-0839-5d07-ffd7-433528051fc8.wav',\n",
       "  './Medley-solos-DB/Medley-solos-DB_validation-1_712c576e-74d3-59f5-f225-64de46352d48.wav',\n",
       "  './Medley-solos-DB/Medley-solos-DB_validation-1_cc244226-c458-54ab-f0f9-69496e6906f8.wav',\n",
       "  './Medley-solos-DB/Medley-solos-DB_validation-1_0c99dd7c-cf9a-543f-f77b-a008876cae37.wav',\n",
       "  './Medley-solos-DB/Medley-solos-DB_validation-1_00561ab7-b447-5df1-fe1f-e9459a3f25bf.wav',\n",
       "  './Medley-solos-DB/Medley-solos-DB_validation-1_21767c21-2ad3-5bf5-ffd6-f8d2f296d427.wav',\n",
       "  './Medley-solos-DB/Medley-solos-DB_validation-1_9fba9de5-1279-53b4-fffc-96bbdcfa4413.wav',\n",
       "  './Medley-solos-DB/Medley-solos-DB_validation-1_e077965b-eef0-5b56-f62d-6a1003d4d47e.wav',\n",
       "  './Medley-solos-DB/Medley-solos-DB_validation-1_9e5d8aef-0b33-539d-ff80-64b890055aec.wav'],\n",
       " 'tenor saxophone': ['./Medley-solos-DB/Medley-solos-DB_validation-5_c90a4e84-e264-547e-f955-76c9fadc1f24.wav',\n",
       "  './Medley-solos-DB/Medley-solos-DB_validation-5_9d9a4968-d72b-5159-f5e0-2bc5d0dd425c.wav',\n",
       "  './Medley-solos-DB/Medley-solos-DB_validation-5_d906e515-bdfb-5127-f837-8c2aae17d127.wav',\n",
       "  './Medley-solos-DB/Medley-solos-DB_validation-5_95937227-2d97-52cb-fbd9-d7bd0d28abc3.wav',\n",
       "  './Medley-solos-DB/Medley-solos-DB_validation-5_97c1d81b-1bcf-503d-ffbc-e315c6af587e.wav',\n",
       "  './Medley-solos-DB/Medley-solos-DB_validation-5_47a40999-071e-52ba-fa84-0b16e9dde9f8.wav',\n",
       "  './Medley-solos-DB/Medley-solos-DB_validation-5_2948de6a-a97c-5118-f319-ca5202cd0d22.wav',\n",
       "  './Medley-solos-DB/Medley-solos-DB_validation-5_4b28e963-2985-5960-f32e-8b035f61b431.wav',\n",
       "  './Medley-solos-DB/Medley-solos-DB_validation-5_59e34e12-3c14-5101-fbcd-14baf1660484.wav',\n",
       "  './Medley-solos-DB/Medley-solos-DB_validation-5_de26c6d1-6639-54b9-f3c4-61d8fbee6238.wav',\n",
       "  './Medley-solos-DB/Medley-solos-DB_validation-5_75dd4401-e430-5521-fc91-d98813a9fd50.wav',\n",
       "  './Medley-solos-DB/Medley-solos-DB_validation-5_d97353e5-2f0a-5ada-f970-5d37e7042f10.wav',\n",
       "  './Medley-solos-DB/Medley-solos-DB_validation-5_e2376331-da43-5628-fac5-c49b0beb2709.wav',\n",
       "  './Medley-solos-DB/Medley-solos-DB_validation-5_6abbdc3e-fe4d-597b-f6ac-623dac770490.wav',\n",
       "  './Medley-solos-DB/Medley-solos-DB_validation-5_745fab06-96a8-5a55-fc6a-97adf070f48c.wav',\n",
       "  './Medley-solos-DB/Medley-solos-DB_validation-5_adb2320d-597c-5b2c-f1fd-3bc5338592be.wav',\n",
       "  './Medley-solos-DB/Medley-solos-DB_validation-5_7483a811-0fdd-55bf-f5b1-c3102e954511.wav',\n",
       "  './Medley-solos-DB/Medley-solos-DB_validation-5_8ce48534-4111-5b8f-f017-b104fd9d86cf.wav',\n",
       "  './Medley-solos-DB/Medley-solos-DB_validation-5_8703ea9d-4e5f-5495-f29a-014be0b7973f.wav',\n",
       "  './Medley-solos-DB/Medley-solos-DB_validation-5_62bc8152-0bf1-5d42-f353-3eb4870ee422.wav',\n",
       "  './Medley-solos-DB/Medley-solos-DB_validation-5_9f0b4fe1-69c1-53d3-fabf-5e0b6c82094f.wav',\n",
       "  './Medley-solos-DB/Medley-solos-DB_validation-5_d50af44f-4199-5642-f911-44614cf0a7e5.wav',\n",
       "  './Medley-solos-DB/Medley-solos-DB_validation-5_f117b9e1-39eb-5f61-f45e-ef71a7b049a7.wav',\n",
       "  './Medley-solos-DB/Medley-solos-DB_validation-5_7b34f4fd-1d4a-593c-f7de-abcfc209eabe.wav',\n",
       "  './Medley-solos-DB/Medley-solos-DB_validation-5_080efa80-a30d-559c-ff19-f155e47a1610.wav',\n",
       "  './Medley-solos-DB/Medley-solos-DB_validation-5_e776d323-e5db-551b-f45d-0c84f2764a6e.wav',\n",
       "  './Medley-solos-DB/Medley-solos-DB_validation-5_37051fb5-546d-5dfe-fb3d-0d02e7914335.wav',\n",
       "  './Medley-solos-DB/Medley-solos-DB_validation-5_3eb7b524-8d5a-5ffa-f3f6-0857f9a5c059.wav',\n",
       "  './Medley-solos-DB/Medley-solos-DB_validation-5_1ebf3830-abeb-51f0-f321-c9cf7a1dc8b0.wav'],\n",
       " 'trumpet': ['./Medley-solos-DB/Medley-solos-DB_validation-6_0e642c5b-86d3-5dbe-f97b-616ca34b36a7.wav',\n",
       "  './Medley-solos-DB/Medley-solos-DB_validation-6_7a24c7a0-2314-54a0-f9f6-28401f3af975.wav',\n",
       "  './Medley-solos-DB/Medley-solos-DB_validation-6_0d9e2420-2188-5d46-f7a9-70953b1ed134.wav',\n",
       "  './Medley-solos-DB/Medley-solos-DB_validation-6_a62194d8-2eef-56d2-fc37-0f8d0f9ed851.wav',\n",
       "  './Medley-solos-DB/Medley-solos-DB_validation-6_7ec826f3-9735-5ed3-f6c1-94a622f29755.wav',\n",
       "  './Medley-solos-DB/Medley-solos-DB_validation-6_391261eb-81e1-5a2b-faeb-8f54039b2507.wav',\n",
       "  './Medley-solos-DB/Medley-solos-DB_validation-6_b9f4dac8-3efc-53df-f202-70795daee14d.wav',\n",
       "  './Medley-solos-DB/Medley-solos-DB_validation-6_6306ccb4-2694-5821-f694-5d1c3b88494c.wav',\n",
       "  './Medley-solos-DB/Medley-solos-DB_validation-6_cecf3000-5033-5e79-f1a1-ebf42bcbc8b5.wav',\n",
       "  './Medley-solos-DB/Medley-solos-DB_validation-6_1582fefc-ce81-5ccd-ff22-92536fdcf244.wav',\n",
       "  './Medley-solos-DB/Medley-solos-DB_validation-6_5205c243-2294-5fbe-f789-0e21eee6865e.wav',\n",
       "  './Medley-solos-DB/Medley-solos-DB_validation-6_95b6f1ef-607f-5019-f9e7-44604c1f365b.wav',\n",
       "  './Medley-solos-DB/Medley-solos-DB_validation-6_8ca38a71-3e66-5125-f9a6-585cf5ffa12b.wav',\n",
       "  './Medley-solos-DB/Medley-solos-DB_validation-6_207b4abe-f645-503b-f0cc-b6ff9293b153.wav',\n",
       "  './Medley-solos-DB/Medley-solos-DB_validation-6_aa98c039-112c-55b4-f087-06c0e5dc0904.wav',\n",
       "  './Medley-solos-DB/Medley-solos-DB_validation-6_ba20c719-5c68-5c2f-f802-f7a79d7634ed.wav',\n",
       "  './Medley-solos-DB/Medley-solos-DB_validation-6_6a794f4b-f0e0-50d1-fa53-8c490509ab24.wav',\n",
       "  './Medley-solos-DB/Medley-solos-DB_validation-6_ff171c68-1884-5696-f299-0e8e7f54e015.wav',\n",
       "  './Medley-solos-DB/Medley-solos-DB_validation-6_41b5c760-41af-5a05-fcb9-9c82b4ff1b24.wav',\n",
       "  './Medley-solos-DB/Medley-solos-DB_validation-6_f4c8c397-9b7b-58dc-f30d-0ca809e90a19.wav',\n",
       "  './Medley-solos-DB/Medley-solos-DB_validation-6_0ef7efc1-0492-520a-ff5c-1ac2d1d43b1f.wav',\n",
       "  './Medley-solos-DB/Medley-solos-DB_validation-6_60a61428-2f06-54eb-fd5d-868083ecaaa8.wav',\n",
       "  './Medley-solos-DB/Medley-solos-DB_validation-6_f3c9c801-de39-5395-fe8a-3f7a37765016.wav',\n",
       "  './Medley-solos-DB/Medley-solos-DB_validation-6_5d0ec560-3776-5ef5-f10b-76a64f915804.wav',\n",
       "  './Medley-solos-DB/Medley-solos-DB_validation-6_b8532600-c386-5db7-ff72-b0a06b9fa5a3.wav',\n",
       "  './Medley-solos-DB/Medley-solos-DB_validation-6_69621557-3af5-57f9-f863-7f2ef7eb56da.wav',\n",
       "  './Medley-solos-DB/Medley-solos-DB_validation-6_4c6a094e-0ac2-5953-feb3-f32a7fd12c98.wav',\n",
       "  './Medley-solos-DB/Medley-solos-DB_validation-6_e6b165ab-4f87-53a4-f20d-43a58ad9d2b0.wav',\n",
       "  './Medley-solos-DB/Medley-solos-DB_validation-6_aeb061ef-9cf4-526d-fa15-08e0d559ad77.wav'],\n",
       " 'piano': ['./Medley-solos-DB/Medley-solos-DB_validation-4_2ae9c358-5471-52b1-fe0e-46b23ac04a7f.wav',\n",
       "  './Medley-solos-DB/Medley-solos-DB_validation-4_78e42903-97a4-5ca6-f568-f7bc61a6189d.wav',\n",
       "  './Medley-solos-DB/Medley-solos-DB_validation-4_8ab3134e-76e5-519e-f292-320b57438fa4.wav',\n",
       "  './Medley-solos-DB/Medley-solos-DB_validation-4_ae3e098d-03ca-545c-f2db-0476e65422b4.wav',\n",
       "  './Medley-solos-DB/Medley-solos-DB_validation-4_fc73ca45-be2f-59dd-f557-b9f0e9584169.wav',\n",
       "  './Medley-solos-DB/Medley-solos-DB_validation-4_2dd48e7b-f822-55fd-f32f-249d9055949f.wav',\n",
       "  './Medley-solos-DB/Medley-solos-DB_validation-4_9379feab-f0bb-5385-f766-9008999dfca8.wav',\n",
       "  './Medley-solos-DB/Medley-solos-DB_validation-4_7a859a14-68b7-5356-ffe3-78abd6eb538a.wav',\n",
       "  './Medley-solos-DB/Medley-solos-DB_validation-4_50d8d949-50d0-5cb0-f055-02606e85ec73.wav',\n",
       "  './Medley-solos-DB/Medley-solos-DB_validation-4_af39d89c-f1e4-57fc-f09d-94cd71e92ded.wav',\n",
       "  './Medley-solos-DB/Medley-solos-DB_validation-4_bf17007c-b2c2-51d2-f9ea-16fe12ed9563.wav',\n",
       "  './Medley-solos-DB/Medley-solos-DB_validation-4_3416acb5-5c0f-5425-f336-38e422b81c19.wav',\n",
       "  './Medley-solos-DB/Medley-solos-DB_validation-4_72c1af23-dd00-57cb-fcfe-8c5e8c12836a.wav',\n",
       "  './Medley-solos-DB/Medley-solos-DB_validation-4_ea59679c-d411-5c91-f83a-4742f4e85a15.wav',\n",
       "  './Medley-solos-DB/Medley-solos-DB_validation-4_f27ec67a-96ac-550c-f885-8f643ca90996.wav',\n",
       "  './Medley-solos-DB/Medley-solos-DB_validation-4_336ade24-f320-5103-f29c-22cb7c979729.wav',\n",
       "  './Medley-solos-DB/Medley-solos-DB_validation-4_65cb6643-7947-58e5-f9d0-42a9a0200c70.wav',\n",
       "  './Medley-solos-DB/Medley-solos-DB_validation-4_904e4bde-c919-5b62-f884-31b0eeb82de8.wav',\n",
       "  './Medley-solos-DB/Medley-solos-DB_validation-4_4b47921e-64d9-5d3b-f8e2-411502720b43.wav',\n",
       "  './Medley-solos-DB/Medley-solos-DB_validation-4_76453abe-426a-50d6-fdea-80fb20b7710c.wav',\n",
       "  './Medley-solos-DB/Medley-solos-DB_validation-4_1ec5f217-e204-5507-f89d-f993cafe6a3f.wav',\n",
       "  './Medley-solos-DB/Medley-solos-DB_validation-4_24a57f1f-e9f8-5804-fa88-a9f6fb33bc9a.wav',\n",
       "  './Medley-solos-DB/Medley-solos-DB_validation-4_4a3235ba-ba23-56bd-f8ef-de44aa0d536a.wav',\n",
       "  './Medley-solos-DB/Medley-solos-DB_validation-4_62caf747-fcfb-5e8a-f687-97cb5c13c55a.wav',\n",
       "  './Medley-solos-DB/Medley-solos-DB_validation-4_2d400821-4a46-5a8d-fe27-d2f229f934b6.wav',\n",
       "  './Medley-solos-DB/Medley-solos-DB_validation-4_a7a6a6fb-3c4a-572e-fdfa-d58b91d81a02.wav',\n",
       "  './Medley-solos-DB/Medley-solos-DB_validation-4_208457fd-e88e-5ce8-ff22-682b741efc9a.wav',\n",
       "  './Medley-solos-DB/Medley-solos-DB_validation-4_1f72c010-c7e0-5a44-fe9a-188746f1c238.wav',\n",
       "  './Medley-solos-DB/Medley-solos-DB_validation-4_18951749-acce-59eb-fb4d-fce06b6c6738.wav'],\n",
       " 'flute': ['./Medley-solos-DB/Medley-solos-DB_validation-3_a515b457-ec8e-5c94-f9a7-e6ed7a97f753.wav',\n",
       "  './Medley-solos-DB/Medley-solos-DB_validation-3_03fff714-7426-5016-fed0-27830025cd1e.wav',\n",
       "  './Medley-solos-DB/Medley-solos-DB_validation-3_98c19566-131c-5508-f1a2-1111314357a1.wav',\n",
       "  './Medley-solos-DB/Medley-solos-DB_validation-3_a6ea90e0-be4e-54dd-f59f-47021c5777f8.wav',\n",
       "  './Medley-solos-DB/Medley-solos-DB_validation-3_7425a910-2f01-56d3-f4be-c596cfc83a9b.wav',\n",
       "  './Medley-solos-DB/Medley-solos-DB_validation-3_93549eca-f628-5a44-f24b-c74736efea42.wav',\n",
       "  './Medley-solos-DB/Medley-solos-DB_validation-3_ffa04b85-0eb9-5c7b-f918-08f3862794d6.wav',\n",
       "  './Medley-solos-DB/Medley-solos-DB_validation-3_dbec2af8-a5fb-5ef4-f4dc-8c640581a05c.wav',\n",
       "  './Medley-solos-DB/Medley-solos-DB_validation-3_0a25c8b2-3483-5d78-f6c8-d0c1e5c7dc41.wav',\n",
       "  './Medley-solos-DB/Medley-solos-DB_validation-3_b9099dda-19c4-52a3-f7bd-879f03c42e1a.wav',\n",
       "  './Medley-solos-DB/Medley-solos-DB_validation-3_75325d41-76f0-5f81-f445-e86d4813d090.wav',\n",
       "  './Medley-solos-DB/Medley-solos-DB_validation-3_6b839203-8ead-5cee-fbd7-94b0bfeab3f1.wav',\n",
       "  './Medley-solos-DB/Medley-solos-DB_validation-3_c74ba49f-b6e4-5f1a-fc3c-e5f41fa0bd7b.wav',\n",
       "  './Medley-solos-DB/Medley-solos-DB_validation-3_002284ac-6ab9-5b52-fc6c-f5658afa1065.wav',\n",
       "  './Medley-solos-DB/Medley-solos-DB_validation-3_a1bbedf9-b9d1-5deb-f221-3a8d9668c1be.wav',\n",
       "  './Medley-solos-DB/Medley-solos-DB_validation-3_4f74694e-9b19-59da-f1d9-c9184ad7c53b.wav',\n",
       "  './Medley-solos-DB/Medley-solos-DB_validation-3_bbaece2d-a549-5f14-f557-f0121d6956e0.wav',\n",
       "  './Medley-solos-DB/Medley-solos-DB_validation-3_7faa435c-fef6-5fa6-f922-e668f2300159.wav',\n",
       "  './Medley-solos-DB/Medley-solos-DB_validation-3_b7dba6cd-e24c-5ff8-f38d-235a60999fc9.wav',\n",
       "  './Medley-solos-DB/Medley-solos-DB_validation-3_25f48f9a-591a-5af9-faac-9d7af6902641.wav',\n",
       "  './Medley-solos-DB/Medley-solos-DB_validation-3_0b9d0ba9-5b9a-5563-fc9e-936b39e9b1ed.wav',\n",
       "  './Medley-solos-DB/Medley-solos-DB_validation-3_7dd589d7-5687-5619-f46e-d627e9c50e39.wav',\n",
       "  './Medley-solos-DB/Medley-solos-DB_validation-3_513d3d51-df66-53e8-f9f6-c057752b4164.wav',\n",
       "  './Medley-solos-DB/Medley-solos-DB_validation-3_be96c247-cc9b-510d-f311-dfbeab873f15.wav',\n",
       "  './Medley-solos-DB/Medley-solos-DB_validation-3_c6ebb03d-31ee-5cdb-f41f-d4d883fc10e4.wav',\n",
       "  './Medley-solos-DB/Medley-solos-DB_validation-3_fa99613f-37ca-54e1-f418-91c8ce86b44d.wav',\n",
       "  './Medley-solos-DB/Medley-solos-DB_validation-3_c2ed6aed-f1fd-55a6-f0fe-d8d546f6e70e.wav',\n",
       "  './Medley-solos-DB/Medley-solos-DB_validation-3_f7a7d8f1-03dd-526a-f8ec-c48500e68707.wav',\n",
       "  './Medley-solos-DB/Medley-solos-DB_validation-3_44688bcc-4368-54cb-fadc-17e7eb6dca53.wav'],\n",
       " 'clarinet': ['./Medley-solos-DB/Medley-solos-DB_validation-0_a8bfed6b-3005-5059-f46d-4f4c5e672850.wav',\n",
       "  './Medley-solos-DB/Medley-solos-DB_validation-0_cb17632c-ca9f-5b7c-f8fb-58a5f35d48ea.wav',\n",
       "  './Medley-solos-DB/Medley-solos-DB_validation-0_21b3c105-1704-5e7c-fc2f-1b60fdb9d74b.wav',\n",
       "  './Medley-solos-DB/Medley-solos-DB_validation-0_ea3fe67c-23fb-5cc5-fdc8-8c90715af8e1.wav',\n",
       "  './Medley-solos-DB/Medley-solos-DB_validation-0_5aef142f-545d-5ace-f1bb-a96e843a999c.wav',\n",
       "  './Medley-solos-DB/Medley-solos-DB_validation-0_bd33a5d3-7b12-5a68-f2c3-6638d97d0f63.wav',\n",
       "  './Medley-solos-DB/Medley-solos-DB_validation-0_eeb96582-9629-5cd2-fc43-d00187a138ee.wav',\n",
       "  './Medley-solos-DB/Medley-solos-DB_validation-0_d4969f62-54f9-5053-f352-d72ee1fc3625.wav',\n",
       "  './Medley-solos-DB/Medley-solos-DB_validation-0_d84fef62-5c3c-563e-f94e-0b25f5e57850.wav',\n",
       "  './Medley-solos-DB/Medley-solos-DB_validation-0_f0b04caa-4f78-5559-fa8e-8b6d5a87b873.wav',\n",
       "  './Medley-solos-DB/Medley-solos-DB_validation-0_d4f46562-3b5c-590d-f687-6f4f9821c83c.wav',\n",
       "  './Medley-solos-DB/Medley-solos-DB_validation-0_0700b899-5cd6-58a7-f2bf-ff97a807c67e.wav',\n",
       "  './Medley-solos-DB/Medley-solos-DB_validation-0_90820749-5a2e-582f-fb9e-c8e6a2dea904.wav',\n",
       "  './Medley-solos-DB/Medley-solos-DB_validation-0_16335315-17cb-50d3-f5ac-687fc0bb8189.wav',\n",
       "  './Medley-solos-DB/Medley-solos-DB_validation-0_7c9fc028-2ebc-5cbd-f35d-5f2beba75f42.wav',\n",
       "  './Medley-solos-DB/Medley-solos-DB_validation-0_db02ef77-2dc6-5394-f780-7cdac161bf2b.wav',\n",
       "  './Medley-solos-DB/Medley-solos-DB_validation-0_7431de34-814c-5a55-f85b-14b84c50413f.wav',\n",
       "  './Medley-solos-DB/Medley-solos-DB_validation-0_9161a199-3ea8-52ac-f14e-2201dee9b32b.wav',\n",
       "  './Medley-solos-DB/Medley-solos-DB_validation-0_89e9bbcd-4695-54f6-f932-b3220f7a2eca.wav',\n",
       "  './Medley-solos-DB/Medley-solos-DB_validation-0_ac8ee30a-a5d7-5f0b-f99d-8b7ab3bf990d.wav',\n",
       "  './Medley-solos-DB/Medley-solos-DB_validation-0_0bf0bc74-eef3-5ec4-fedf-b47faf756b09.wav',\n",
       "  './Medley-solos-DB/Medley-solos-DB_validation-0_fae54605-52db-5fd1-f9d4-78f03d92f4a4.wav',\n",
       "  './Medley-solos-DB/Medley-solos-DB_validation-0_27c7abc7-12ad-5518-f9c5-7dbcb426d0cc.wav',\n",
       "  './Medley-solos-DB/Medley-solos-DB_validation-0_8cef32c6-f728-55a9-ff48-2840aba9d989.wav',\n",
       "  './Medley-solos-DB/Medley-solos-DB_validation-0_1e8d59f5-a5bf-5989-f47a-0841a3ae5904.wav',\n",
       "  './Medley-solos-DB/Medley-solos-DB_validation-0_f31dfd57-362e-5e02-f6e2-7b7b0f0f6105.wav',\n",
       "  './Medley-solos-DB/Medley-solos-DB_validation-0_4e2b435d-afd0-5818-f02b-5475138bed3d.wav',\n",
       "  './Medley-solos-DB/Medley-solos-DB_validation-0_34e6f915-1613-5942-f0ae-69f856fd4e80.wav',\n",
       "  './Medley-solos-DB/Medley-solos-DB_validation-0_d95a2418-7b23-5c8b-f030-1dd43ca8cfe2.wav'],\n",
       " 'female singer': ['./Medley-solos-DB/Medley-solos-DB_validation-2_e0b9c2e8-1f4f-5d61-ffd0-8b206b73fb4e.wav',\n",
       "  './Medley-solos-DB/Medley-solos-DB_validation-2_90ce049c-8e86-55f3-f9d4-2e73d45d8b29.wav',\n",
       "  './Medley-solos-DB/Medley-solos-DB_validation-2_f9c0f21e-46b8-57bd-fb7c-91fc2c22442d.wav',\n",
       "  './Medley-solos-DB/Medley-solos-DB_validation-2_74507e71-75a5-50c7-f49d-9cf20ae0d4d5.wav',\n",
       "  './Medley-solos-DB/Medley-solos-DB_validation-2_295a33c5-63a7-5c16-fe8f-251ea9c34aa2.wav',\n",
       "  './Medley-solos-DB/Medley-solos-DB_validation-2_ca02827f-5c6e-55bf-f653-909aacf102fa.wav',\n",
       "  './Medley-solos-DB/Medley-solos-DB_validation-2_050ea194-d9ed-57a3-f477-f2dcd2651af8.wav',\n",
       "  './Medley-solos-DB/Medley-solos-DB_validation-2_f2c6600a-4335-5cc7-f673-ccad11ec863d.wav',\n",
       "  './Medley-solos-DB/Medley-solos-DB_validation-2_4907ff01-c329-5424-fb48-9766f49be479.wav',\n",
       "  './Medley-solos-DB/Medley-solos-DB_validation-2_095cfc14-475e-575a-f0a0-1afc679e42fd.wav',\n",
       "  './Medley-solos-DB/Medley-solos-DB_validation-2_adedf3e8-4d92-533e-f43d-9bd47bc0a1d7.wav',\n",
       "  './Medley-solos-DB/Medley-solos-DB_validation-2_ab4af4ff-da41-515f-fbb8-5118b7137037.wav',\n",
       "  './Medley-solos-DB/Medley-solos-DB_validation-2_b608e95b-ac25-54b4-fd5d-328754f7c621.wav',\n",
       "  './Medley-solos-DB/Medley-solos-DB_validation-2_a407b95c-500f-5c76-f1cc-96c935a8dc34.wav',\n",
       "  './Medley-solos-DB/Medley-solos-DB_validation-2_9cc84328-268f-594d-f4f1-5294cf944add.wav',\n",
       "  './Medley-solos-DB/Medley-solos-DB_validation-2_302a5442-bcc0-5b0b-f2f1-f1df022ccee7.wav',\n",
       "  './Medley-solos-DB/Medley-solos-DB_validation-2_0144a52e-71ef-5507-f47d-d52020a35dbd.wav',\n",
       "  './Medley-solos-DB/Medley-solos-DB_validation-2_1137241b-1e64-5eab-f7e5-1a0c81a4b7d2.wav',\n",
       "  './Medley-solos-DB/Medley-solos-DB_validation-2_e1835250-1fde-502f-faa0-23e54c50cc8a.wav',\n",
       "  './Medley-solos-DB/Medley-solos-DB_validation-2_82619821-fd2c-53ac-f8c4-41b3c7c9676c.wav',\n",
       "  './Medley-solos-DB/Medley-solos-DB_validation-2_31c3b79b-cc0c-5554-f1ab-89aefc865ebb.wav',\n",
       "  './Medley-solos-DB/Medley-solos-DB_validation-2_dd57d8fd-5bf3-58d7-f98d-dd5276a10fc6.wav',\n",
       "  './Medley-solos-DB/Medley-solos-DB_validation-2_50a80058-2887-55ed-fc3d-11d97c81c160.wav',\n",
       "  './Medley-solos-DB/Medley-solos-DB_validation-2_71dff56b-20e8-5cdc-f8a9-e05977ad60f4.wav',\n",
       "  './Medley-solos-DB/Medley-solos-DB_validation-2_a1ba3584-e8f0-5b9e-f963-cd082c2b68c5.wav',\n",
       "  './Medley-solos-DB/Medley-solos-DB_validation-2_549dfdc9-b58b-566f-f312-30c373bdc1d3.wav',\n",
       "  './Medley-solos-DB/Medley-solos-DB_validation-2_6c8c5830-20ad-5f28-fa05-b0c683ef9801.wav',\n",
       "  './Medley-solos-DB/Medley-solos-DB_validation-2_70aaa8c8-7dce-5cd1-fd37-950247d28931.wav',\n",
       "  './Medley-solos-DB/Medley-solos-DB_validation-2_ccc7eb3a-ed3c-5f53-f1fb-17898f6e08dc.wav'],\n",
       " 'violin': ['./Medley-solos-DB/Medley-solos-DB_validation-7_4239acc6-a852-5575-ff07-add94cba7417.wav',\n",
       "  './Medley-solos-DB/Medley-solos-DB_validation-7_a2af9600-3277-59ea-f695-f7ae03955b60.wav',\n",
       "  './Medley-solos-DB/Medley-solos-DB_validation-7_e14c9e87-ee92-5e27-f4ca-b249648d614d.wav',\n",
       "  './Medley-solos-DB/Medley-solos-DB_validation-7_6f004452-85a6-512e-f22e-effc47b5e101.wav',\n",
       "  './Medley-solos-DB/Medley-solos-DB_validation-7_1f650342-7d50-55e5-f07f-88bb5a2c5ddd.wav',\n",
       "  './Medley-solos-DB/Medley-solos-DB_validation-7_04998d83-f22a-5060-f596-fd549a243a72.wav',\n",
       "  './Medley-solos-DB/Medley-solos-DB_validation-7_07c47076-f5ed-592e-f60b-0ce7e11d8ef9.wav',\n",
       "  './Medley-solos-DB/Medley-solos-DB_validation-7_fd5622f3-b4d2-5194-ff20-2253c2792acc.wav',\n",
       "  './Medley-solos-DB/Medley-solos-DB_validation-7_4d7837de-8eb0-5af4-f5ad-69383cb2a396.wav',\n",
       "  './Medley-solos-DB/Medley-solos-DB_validation-7_8ff6f697-0c3b-5d4d-f146-ed356a73ce0a.wav',\n",
       "  './Medley-solos-DB/Medley-solos-DB_validation-7_5800ecba-93ad-503d-f925-0a12bb4dcc67.wav',\n",
       "  './Medley-solos-DB/Medley-solos-DB_validation-7_b50d6a0b-05ec-58f7-f3d9-5b22146d36d6.wav',\n",
       "  './Medley-solos-DB/Medley-solos-DB_validation-7_3ce4bb75-4ead-574c-f23d-1099a08f01f6.wav',\n",
       "  './Medley-solos-DB/Medley-solos-DB_validation-7_a8f95fff-f069-5425-fe34-a6b5db427d95.wav',\n",
       "  './Medley-solos-DB/Medley-solos-DB_validation-7_3e65526d-3516-585a-f304-2542f995f8a0.wav',\n",
       "  './Medley-solos-DB/Medley-solos-DB_validation-7_a8f64c4e-84c5-5dd7-f73b-d5a0567ccc8b.wav',\n",
       "  './Medley-solos-DB/Medley-solos-DB_validation-7_92a61039-53b1-53fb-f678-0b03405c17cf.wav',\n",
       "  './Medley-solos-DB/Medley-solos-DB_validation-7_a6cb5c25-eda8-5fa3-f27b-092e413263d5.wav',\n",
       "  './Medley-solos-DB/Medley-solos-DB_validation-7_c8a6b483-08f5-5a03-f307-80181aeef31b.wav',\n",
       "  './Medley-solos-DB/Medley-solos-DB_validation-7_e2f79cb0-064e-5f54-f7a4-d90ee458735a.wav',\n",
       "  './Medley-solos-DB/Medley-solos-DB_validation-7_cb8ed9bb-aadc-5198-f04d-e5f38032d399.wav',\n",
       "  './Medley-solos-DB/Medley-solos-DB_validation-7_1e50ede4-0ef8-5231-f4a1-43287880019a.wav',\n",
       "  './Medley-solos-DB/Medley-solos-DB_validation-7_8f5dab3c-53b4-5887-f0f9-28bf7dae9937.wav',\n",
       "  './Medley-solos-DB/Medley-solos-DB_validation-7_d33236c3-46b6-513e-fbd6-f8c09449869a.wav',\n",
       "  './Medley-solos-DB/Medley-solos-DB_validation-7_e87c10aa-297c-55ff-f530-8994832d09b5.wav',\n",
       "  './Medley-solos-DB/Medley-solos-DB_validation-7_2dc4c0e9-3c62-5d25-fdc7-b894958b14da.wav',\n",
       "  './Medley-solos-DB/Medley-solos-DB_validation-7_d35cdf74-828e-5a5a-f8f1-60dd1cf50132.wav',\n",
       "  './Medley-solos-DB/Medley-solos-DB_validation-7_bd6bc70e-1dd1-5f64-fdbd-855e78a92cb1.wav',\n",
       "  './Medley-solos-DB/Medley-solos-DB_validation-7_df7e60b9-2638-519b-fdd7-82a5e47e868b.wav']}"
      ]
     },
     "execution_count": 65,
     "metadata": {},
     "output_type": "execute_result"
    }
   ],
   "source": [
    "insts_validation_paths_normalized"
   ]
  },
  {
   "cell_type": "code",
   "execution_count": 70,
   "metadata": {},
   "outputs": [],
   "source": [
    "def samplesList(path_lst):\n",
    "    '''\n",
    "    Esta función crea una lista de objetos de AudioSegment\n",
    "    por cada fichero de la lista que recibe (path_lst),\n",
    "    después por cada objeto AudioSegment, obtiene la lista\n",
    "    de samples de cada audio, creando una nueva lista y devolviéndola.\n",
    "    '''\n",
    "    audio_lst = []\n",
    "    audio_samples_lst = []\n",
    "    for path in path_lst:\n",
    "        audio = AudioSegment.from_file(path, format='wav')\n",
    "        audio_lst.append(audio)\n",
    "    for a in audio_lst:\n",
    "        audio_samples_lst.append(a.get_array_of_samples())\n",
    "    \n",
    "    return audio_samples_lst\n",
    "\n",
    "def fftList(samples_lst):\n",
    "    '''\n",
    "    Esta función recibe una lista de samples de audios,\n",
    "    hace la transformada de Fourier y devuelve una lista, \n",
    "    con toda la lista transformada.\n",
    "    '''\n",
    "    fft_lst = []\n",
    "    for sample in samples_lst:\n",
    "        four = abs(fft(sample))\n",
    "        fft_lst.append(four)\n",
    "    \n",
    "    return fft_lst"
   ]
  },
  {
   "cell_type": "code",
   "execution_count": 71,
   "metadata": {},
   "outputs": [],
   "source": [
    "# Cogemos el diccionario y por cada instrumento generamos su lista de samples:\n",
    "\n",
    "def instSamples(insts_paths):\n",
    "    '''\n",
    "    Esta función genera un dict de instrumentos\n",
    "    y su lista samples a partir del dict de paths \n",
    "    que recibe y lo devuelve.\n",
    "    '''\n",
    "    inst_samples = {}\n",
    "    for inst, paths in insts_paths.items():\n",
    "        inst_samples[inst] = samplesList(paths)\n",
    "        \n",
    "    return inst_samples"
   ]
  },
  {
   "cell_type": "code",
   "execution_count": 72,
   "metadata": {},
   "outputs": [],
   "source": [
    "insts_validation_samples = instSamples(insts_validation_paths_normalized)"
   ]
  },
  {
   "cell_type": "code",
   "execution_count": 73,
   "metadata": {},
   "outputs": [],
   "source": [
    "def infoSamples(inst_samples):\n",
    "    '''\n",
    "    Esta función halla la longitud máxima, mínima y\n",
    "    la media de los samples de todos los instrumentos.\n",
    "    '''\n",
    "    min_len = len(list(inst_samples.items())[0][1][0])\n",
    "    max_len = 0\n",
    "    joined_samples_lst = []\n",
    "    for inst, samples_lst in inst_samples.items():\n",
    "        joined_samples_lst = joined_samples_lst + samples_lst\n",
    "        \n",
    "    means_lst = []\n",
    "    for samples in joined_samples_lst:\n",
    "        samples_len = len(samples)\n",
    "        means_lst.append(samples_len)\n",
    "        if min_len > samples_len:\n",
    "            min_len = samples_len\n",
    "        if max_len < samples_len:\n",
    "            max_len = samples_len\n",
    "    \n",
    "    print(f'Mean: {sum(means_lst) / len(means_lst)}')\n",
    "    print(f'Max len: {max_len}')\n",
    "    print(f'Min len: {min_len}')"
   ]
  },
  {
   "cell_type": "code",
   "execution_count": 74,
   "metadata": {},
   "outputs": [
    {
     "name": "stdout",
     "output_type": "stream",
     "text": [
      "Mean: 131072.0\n",
      "Max len: 131072\n",
      "Min len: 131072\n"
     ]
    }
   ],
   "source": [
    "infoSamples(insts_validation_samples)"
   ]
  },
  {
   "cell_type": "code",
   "execution_count": 75,
   "metadata": {},
   "outputs": [],
   "source": [
    "def instFft(insts_samples):\n",
    "    '''\n",
    "    Esta función genera un dict de instrumentos\n",
    "    y su lista samples a partir del dict de paths \n",
    "    que recibe y lo devuelve.\n",
    "    '''\n",
    "    inst_ffts = {}\n",
    "    for inst, samples in insts_samples.items():\n",
    "        inst_ffts[inst] = fftList(samples)\n",
    "        \n",
    "    return inst_ffts\n",
    "\n",
    "insts_ffts = instFft(insts_validation_samples)"
   ]
  },
  {
   "cell_type": "code",
   "execution_count": 76,
   "metadata": {},
   "outputs": [],
   "source": [
    "def dataFramer(insts_ffts):\n",
    "    '''\n",
    "    Esta función toma el diccionario que se le pase como argumento\n",
    "    y, por cada entrada del diccionario, crea un dataframe y los concatena \n",
    "    todos.\n",
    "    '''\n",
    "    lst_df = []\n",
    "    for inst, fft_lst in insts_ffts.items():\n",
    "        inst_val = {\"transformed\": fft_lst, \"type\": inst}\n",
    "        lst_df.append(pd.DataFrame(inst_val))\n",
    "    return pd.concat(lst_df).reset_index(drop=True)"
   ]
  },
  {
   "cell_type": "code",
   "execution_count": 77,
   "metadata": {},
   "outputs": [],
   "source": [
    "df_total_validation = dataFramer(insts_ffts)"
   ]
  },
  {
   "cell_type": "code",
   "execution_count": 78,
   "metadata": {},
   "outputs": [
    {
     "data": {
      "text/html": [
       "<div>\n",
       "<style scoped>\n",
       "    .dataframe tbody tr th:only-of-type {\n",
       "        vertical-align: middle;\n",
       "    }\n",
       "\n",
       "    .dataframe tbody tr th {\n",
       "        vertical-align: top;\n",
       "    }\n",
       "\n",
       "    .dataframe thead th {\n",
       "        text-align: right;\n",
       "    }\n",
       "</style>\n",
       "<table border=\"1\" class=\"dataframe\">\n",
       "  <thead>\n",
       "    <tr style=\"text-align: right;\">\n",
       "      <th></th>\n",
       "      <th>transformed</th>\n",
       "      <th>type</th>\n",
       "    </tr>\n",
       "  </thead>\n",
       "  <tbody>\n",
       "    <tr>\n",
       "      <th>0</th>\n",
       "      <td>[1810399232.0, 2121176134.2477577, 2014916240....</td>\n",
       "      <td>distorted electric guitar</td>\n",
       "    </tr>\n",
       "    <tr>\n",
       "      <th>1</th>\n",
       "      <td>[1645543424.0, 1315648156.6486316, 1311040667....</td>\n",
       "      <td>distorted electric guitar</td>\n",
       "    </tr>\n",
       "    <tr>\n",
       "      <th>2</th>\n",
       "      <td>[2435219456.0, 2057058782.5004284, 2101994106....</td>\n",
       "      <td>distorted electric guitar</td>\n",
       "    </tr>\n",
       "    <tr>\n",
       "      <th>3</th>\n",
       "      <td>[3655565312.0, 3342861768.674649, 3394058895.9...</td>\n",
       "      <td>distorted electric guitar</td>\n",
       "    </tr>\n",
       "    <tr>\n",
       "      <th>4</th>\n",
       "      <td>[1179746304.0, 875337939.5570114, 865450750.90...</td>\n",
       "      <td>distorted electric guitar</td>\n",
       "    </tr>\n",
       "  </tbody>\n",
       "</table>\n",
       "</div>"
      ],
      "text/plain": [
       "                                         transformed  \\\n",
       "0  [1810399232.0, 2121176134.2477577, 2014916240....   \n",
       "1  [1645543424.0, 1315648156.6486316, 1311040667....   \n",
       "2  [2435219456.0, 2057058782.5004284, 2101994106....   \n",
       "3  [3655565312.0, 3342861768.674649, 3394058895.9...   \n",
       "4  [1179746304.0, 875337939.5570114, 865450750.90...   \n",
       "\n",
       "                        type  \n",
       "0  distorted electric guitar  \n",
       "1  distorted electric guitar  \n",
       "2  distorted electric guitar  \n",
       "3  distorted electric guitar  \n",
       "4  distorted electric guitar  "
      ]
     },
     "execution_count": 78,
     "metadata": {},
     "output_type": "execute_result"
    }
   ],
   "source": [
    "df_total_validation.head()"
   ]
  },
  {
   "cell_type": "code",
   "execution_count": 79,
   "metadata": {},
   "outputs": [],
   "source": [
    "df_total_validation.to_pickle(r'./validation-bueno.csv')"
   ]
  },
  {
   "cell_type": "code",
   "execution_count": null,
   "metadata": {},
   "outputs": [],
   "source": []
  },
  {
   "cell_type": "code",
   "execution_count": null,
   "metadata": {},
   "outputs": [],
   "source": []
  }
 ],
 "metadata": {
  "kernelspec": {
   "display_name": "Python 3",
   "language": "python",
   "name": "python3"
  },
  "language_info": {
   "codemirror_mode": {
    "name": "ipython",
    "version": 3
   },
   "file_extension": ".py",
   "mimetype": "text/x-python",
   "name": "python",
   "nbconvert_exporter": "python",
   "pygments_lexer": "ipython3",
   "version": "3.8.5"
  }
 },
 "nbformat": 4,
 "nbformat_minor": 4
}
