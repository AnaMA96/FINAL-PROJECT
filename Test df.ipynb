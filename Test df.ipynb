{
 "cells": [
  {
   "cell_type": "code",
   "execution_count": 2,
   "metadata": {},
   "outputs": [],
   "source": [
    "import pandas as pd\n",
    "import numpy as pd\n",
    "\n",
    "import pickle\n",
    "import joblib \n",
    "\n",
    "from pydub import AudioSegment\n",
    "import numpy as np\n",
    "from scipy.io.wavfile import read\n",
    "from scipy.fftpack import fft\n",
    "import pydub\n",
    "from scipy import signal\n",
    "import matplotlib.pyplot as plt\n",
    "import pandas as pd\n",
    "from sklearn.ensemble import GradientBoostingClassifier, RandomForestClassifier\n",
    "from sklearn.model_selection import train_test_split\n",
    "from sklearn.metrics import accuracy_score\n",
    "import speech_recognition as sr"
   ]
  },
  {
   "cell_type": "code",
   "execution_count": 4,
   "metadata": {},
   "outputs": [],
   "source": [
    "data1 = pd.read_csv(\"./Medley-solos-DB/Medley-solos-DB_metadata.csv\")\n",
    "df1 = pd.DataFrame(data1)"
   ]
  },
  {
   "cell_type": "code",
   "execution_count": 6,
   "metadata": {},
   "outputs": [
    {
     "data": {
      "text/html": [
       "<div>\n",
       "<style scoped>\n",
       "    .dataframe tbody tr th:only-of-type {\n",
       "        vertical-align: middle;\n",
       "    }\n",
       "\n",
       "    .dataframe tbody tr th {\n",
       "        vertical-align: top;\n",
       "    }\n",
       "\n",
       "    .dataframe thead th {\n",
       "        text-align: right;\n",
       "    }\n",
       "</style>\n",
       "<table border=\"1\" class=\"dataframe\">\n",
       "  <thead>\n",
       "    <tr style=\"text-align: right;\">\n",
       "      <th></th>\n",
       "      <th>subset</th>\n",
       "      <th>instrument</th>\n",
       "      <th>instrument_id</th>\n",
       "      <th>song_id</th>\n",
       "      <th>uuid4</th>\n",
       "    </tr>\n",
       "  </thead>\n",
       "  <tbody>\n",
       "    <tr>\n",
       "      <th>0</th>\n",
       "      <td>test</td>\n",
       "      <td>clarinet</td>\n",
       "      <td>0</td>\n",
       "      <td>0</td>\n",
       "      <td>0e4371ac-1c6a-51ab-fdb7-f8abd5fbf1a3</td>\n",
       "    </tr>\n",
       "    <tr>\n",
       "      <th>1</th>\n",
       "      <td>test</td>\n",
       "      <td>clarinet</td>\n",
       "      <td>0</td>\n",
       "      <td>0</td>\n",
       "      <td>33383119-fd64-59c1-f596-d1a23e8a0eff</td>\n",
       "    </tr>\n",
       "    <tr>\n",
       "      <th>2</th>\n",
       "      <td>test</td>\n",
       "      <td>clarinet</td>\n",
       "      <td>0</td>\n",
       "      <td>0</td>\n",
       "      <td>b2b7a288-e169-5642-fced-b509c06b11fc</td>\n",
       "    </tr>\n",
       "    <tr>\n",
       "      <th>3</th>\n",
       "      <td>test</td>\n",
       "      <td>clarinet</td>\n",
       "      <td>0</td>\n",
       "      <td>0</td>\n",
       "      <td>151b6ee4-313a-58d9-fbcb-bab73e0d426b</td>\n",
       "    </tr>\n",
       "    <tr>\n",
       "      <th>4</th>\n",
       "      <td>test</td>\n",
       "      <td>clarinet</td>\n",
       "      <td>0</td>\n",
       "      <td>0</td>\n",
       "      <td>b43999d1-9b5e-557f-f9bc-1b3759659858</td>\n",
       "    </tr>\n",
       "  </tbody>\n",
       "</table>\n",
       "</div>"
      ],
      "text/plain": [
       "  subset instrument  instrument_id  song_id  \\\n",
       "0   test   clarinet              0        0   \n",
       "1   test   clarinet              0        0   \n",
       "2   test   clarinet              0        0   \n",
       "3   test   clarinet              0        0   \n",
       "4   test   clarinet              0        0   \n",
       "\n",
       "                                  uuid4  \n",
       "0  0e4371ac-1c6a-51ab-fdb7-f8abd5fbf1a3  \n",
       "1  33383119-fd64-59c1-f596-d1a23e8a0eff  \n",
       "2  b2b7a288-e169-5642-fced-b509c06b11fc  \n",
       "3  151b6ee4-313a-58d9-fbcb-bab73e0d426b  \n",
       "4  b43999d1-9b5e-557f-f9bc-1b3759659858  "
      ]
     },
     "execution_count": 6,
     "metadata": {},
     "output_type": "execute_result"
    }
   ],
   "source": [
    "test = df1[\"subset\"]==\"test\"\n",
    "df_test= df1[test]\n",
    "df_test.head()"
   ]
  },
  {
   "cell_type": "code",
   "execution_count": 8,
   "metadata": {},
   "outputs": [
    {
     "data": {
      "text/plain": [
       "{'clarinet',\n",
       " 'distorted electric guitar',\n",
       " 'female singer',\n",
       " 'flute',\n",
       " 'piano',\n",
       " 'tenor saxophone',\n",
       " 'trumpet',\n",
       " 'violin'}"
      ]
     },
     "execution_count": 8,
     "metadata": {},
     "output_type": "execute_result"
    }
   ],
   "source": [
    "instrument_lst = set(df1.instrument.values)  \n",
    "instrument_lst"
   ]
  },
  {
   "cell_type": "code",
   "execution_count": 13,
   "metadata": {},
   "outputs": [],
   "source": [
    "instrument_lst = list(instrument_lst)"
   ]
  },
  {
   "cell_type": "code",
   "execution_count": 15,
   "metadata": {},
   "outputs": [],
   "source": [
    "instruments_test = {}\n",
    "for inst in instrument_lst:\n",
    "    instruments_test.update({inst:list(df1['uuid4'][df1[\"instrument\"]==inst])})\n",
    "\n"
   ]
  },
  {
   "cell_type": "code",
   "execution_count": 16,
   "metadata": {},
   "outputs": [],
   "source": [
    "import os\n",
    "import re\n",
    "\n",
    "def find(pattern, path):\n",
    "    ''' \n",
    "    Esta función busca el primer fichero que cumpla\n",
    "    el pattern, en el path que recibe.\n",
    "    Si lo encuentra devuelve la ruta del fichero.\n",
    "    '''\n",
    "    for root, dirs, files in os.walk(path):\n",
    "        for name in files:\n",
    "            if bool(re.search(pattern, name)):\n",
    "                return os.path.join(root, name)\n",
    "    return None\n",
    "\n",
    "#find(fr\"(.*){identifier}(.*)\", './Medley-solos-DB/')"
   ]
  },
  {
   "cell_type": "code",
   "execution_count": 19,
   "metadata": {},
   "outputs": [],
   "source": [
    "instruments_test_paths = {}\n",
    "for inst, uuid4_list in instruments_test.items():\n",
    "    inst_path_list = []\n",
    "    for uuid4 in uuid4_list:\n",
    "        path = find(fr\"(.*){uuid4}(.*)\", './Medley-solos-DB')\n",
    "        if path:\n",
    "            inst_path_list.append(path)\n",
    "    instruments_test_paths[inst] = inst_path_list"
   ]
  },
  {
   "cell_type": "code",
   "execution_count": 20,
   "metadata": {},
   "outputs": [],
   "source": [
    "# Creamos una copia de instruments_test_paths por si modificamos algo por error,\n",
    "# para no tener que volver a ejecutar la celda anterior.\n",
    "instruments_test_paths_copy = instruments_test_paths"
   ]
  },
  {
   "cell_type": "code",
   "execution_count": 21,
   "metadata": {},
   "outputs": [],
   "source": [
    "def removeEmptyPaths(inst_paths_dict):\n",
    "    '''\n",
    "    Esta función limpia los instrumentos cuya lista\n",
    "    de paths esté vacía y te devuelve una copia del diccionario limpio.\n",
    "    '''\n",
    "    inst_paths_dict_cleaned = inst_paths_dict\n",
    "    for inst, paths in inst_paths_dict.items():\n",
    "        if not paths:\n",
    "            inst_paths_dict_cleaned.pop(inst)\n",
    "        else:\n",
    "            print(inst)\n",
    "    return inst_paths_dict_cleaned"
   ]
  },
  {
   "cell_type": "code",
   "execution_count": 22,
   "metadata": {},
   "outputs": [
    {
     "name": "stdout",
     "output_type": "stream",
     "text": [
      "distorted electric guitar\n",
      "clarinet\n",
      "piano\n",
      "trumpet\n",
      "flute\n",
      "female singer\n",
      "tenor saxophone\n",
      "violin\n"
     ]
    }
   ],
   "source": [
    "instruments_test_paths_copy = removeEmptyPaths(instruments_test_paths_copy)"
   ]
  },
  {
   "cell_type": "code",
   "execution_count": 23,
   "metadata": {},
   "outputs": [],
   "source": [
    "def normalizeInstPathsLen(inst_paths_dict):\n",
    "    '''\n",
    "    Esta función va a homogeneizar la longitud \n",
    "    de las listas de paths que tiene el diccionario\n",
    "    que recibe, va a crear un nuevo diccionario y \n",
    "    lo va a devolver.\n",
    "    '''\n",
    "    insts_paths_normalized_len = {}\n",
    "    min_len = len(list(inst_paths_dict.items())[0][1])\n",
    "    for inst, paths in inst_paths_dict.items():\n",
    "        if min_len > len(paths):\n",
    "            min_len = len(paths)\n",
    "    for inst, paths in inst_paths_dict.items():\n",
    "        insts_paths_normalized_len[inst] = paths[:min_len]\n",
    "        \n",
    "    return insts_paths_normalized_len"
   ]
  },
  {
   "cell_type": "code",
   "execution_count": 24,
   "metadata": {},
   "outputs": [],
   "source": [
    "insts_test_paths_normalized = normalizeInstPathsLen(instruments_test_paths_copy)"
   ]
  },
  {
   "cell_type": "code",
   "execution_count": 25,
   "metadata": {},
   "outputs": [],
   "source": [
    "insts_test_paths_normalized_df = pd.DataFrame.from_dict(insts_test_paths_normalized)\n",
    "insts_test_paths_normalized_df = insts_test_paths_normalized_df.reset_index()"
   ]
  },
  {
   "cell_type": "code",
   "execution_count": 27,
   "metadata": {},
   "outputs": [],
   "source": [
    "insts_test_paths_normalized_df.to_csv(r'./normalized_test_data.csv', index = False)"
   ]
  },
  {
   "cell_type": "code",
   "execution_count": 28,
   "metadata": {},
   "outputs": [],
   "source": [
    "def samplesList(path_lst):\n",
    "    '''\n",
    "    Esta función crea una lista de objetos de AudioSegment\n",
    "    por cada fichero de la lista que recibe (path_lst),\n",
    "    después por cada objeto AudioSegment, obtiene la lista\n",
    "    de samples de cada audio, creando una nueva lista y devolviéndola.\n",
    "    '''\n",
    "    audio_lst = []\n",
    "    audio_samples_lst = []\n",
    "    for path in path_lst:\n",
    "        audio = AudioSegment.from_file(path, format='wav')\n",
    "        audio_lst.append(audio)\n",
    "    for a in audio_lst:\n",
    "        audio_samples_lst.append(a.get_array_of_samples())\n",
    "    \n",
    "    return audio_samples_lst\n",
    "\n",
    "def fftList(samples_lst):\n",
    "    '''\n",
    "    Esta función recibe una lista de samples de audios,\n",
    "    hace la transformada de Fourier y devuelve una lista, \n",
    "    con toda la lista transformada.\n",
    "    '''\n",
    "    fft_lst = []\n",
    "    for sample in samples_lst:\n",
    "        four = abs(fft(sample))\n",
    "        fft_lst.append(four)\n",
    "    \n",
    "    return fft_lst"
   ]
  },
  {
   "cell_type": "code",
   "execution_count": 29,
   "metadata": {},
   "outputs": [],
   "source": [
    "# Cogemos el diccionario y por cada instrumento generamos su lista de samples:\n",
    "\n",
    "def instSamples(insts_paths):\n",
    "    '''\n",
    "    Esta función genera un dict de instrumentos\n",
    "    y su lista samples a partir del dict de paths \n",
    "    que recibe y lo devuelve.\n",
    "    '''\n",
    "    inst_samples = {}\n",
    "    for inst, paths in insts_paths.items():\n",
    "        inst_samples[inst] = samplesList(paths)\n",
    "        \n",
    "    return inst_samples"
   ]
  },
  {
   "cell_type": "code",
   "execution_count": 31,
   "metadata": {},
   "outputs": [],
   "source": [
    "insts_test_samples = instSamples(insts_test_paths_normalized)"
   ]
  },
  {
   "cell_type": "code",
   "execution_count": 32,
   "metadata": {},
   "outputs": [],
   "source": [
    "def infoSamples(inst_samples):\n",
    "    '''\n",
    "    Esta función halla la longitud máxima, mínima y\n",
    "    la media de los samples de todos los instrumentos.\n",
    "    '''\n",
    "    min_len = len(list(inst_samples.items())[0][1][0])\n",
    "    max_len = 0\n",
    "    joined_samples_lst = []\n",
    "    for inst, samples_lst in inst_samples.items():\n",
    "        joined_samples_lst = joined_samples_lst + samples_lst\n",
    "        \n",
    "    means_lst = []\n",
    "    for samples in joined_samples_lst:\n",
    "        samples_len = len(samples)\n",
    "        means_lst.append(samples_len)\n",
    "        if min_len > samples_len:\n",
    "            min_len = samples_len\n",
    "        if max_len < samples_len:\n",
    "            max_len = samples_len\n",
    "    \n",
    "    print(f'Mean: {sum(means_lst) / len(means_lst)}')\n",
    "    print(f'Max len: {max_len}')\n",
    "    print(f'Min len: {min_len}')"
   ]
  },
  {
   "cell_type": "code",
   "execution_count": 33,
   "metadata": {},
   "outputs": [
    {
     "name": "stdout",
     "output_type": "stream",
     "text": [
      "Mean: 131072.0\n",
      "Max len: 131072\n",
      "Min len: 131072\n"
     ]
    }
   ],
   "source": [
    "infoSamples(insts_test_samples)"
   ]
  },
  {
   "cell_type": "code",
   "execution_count": 35,
   "metadata": {},
   "outputs": [],
   "source": [
    "def instFft(insts_samples):\n",
    "    '''\n",
    "    Esta función genera un dict de instrumentos\n",
    "    y su lista samples a partir del dict de paths \n",
    "    que recibe y lo devuelve.\n",
    "    '''\n",
    "    inst_ffts = {}\n",
    "    for inst, samples in insts_samples.items():\n",
    "        inst_ffts[inst] = fftList(samples)\n",
    "        \n",
    "    return inst_ffts\n",
    "\n",
    "insts_ffts = instFft(insts_test_samples)"
   ]
  },
  {
   "cell_type": "code",
   "execution_count": 36,
   "metadata": {},
   "outputs": [],
   "source": [
    "def dataFramer(insts_ffts):\n",
    "    '''\n",
    "    Esta función toma el diccionario que se le pase como argumento\n",
    "    y, por cada entrada del diccionario, crea un dataframe y los concatena \n",
    "    todos.\n",
    "    '''\n",
    "    lst_df = []\n",
    "    for inst, fft_lst in insts_ffts.items():\n",
    "        inst_te = {\"transformed\": fft_lst, \"type\": inst}\n",
    "        lst_df.append(pd.DataFrame(inst_te))\n",
    "    return pd.concat(lst_df).reset_index(drop=True)"
   ]
  },
  {
   "cell_type": "code",
   "execution_count": 37,
   "metadata": {},
   "outputs": [],
   "source": [
    "df_total_test = dataFramer(insts_ffts)"
   ]
  },
  {
   "cell_type": "code",
   "execution_count": 38,
   "metadata": {},
   "outputs": [],
   "source": [
    "df_total_test.to_csv(r'./test.csv')"
   ]
  },
  {
   "cell_type": "code",
   "execution_count": null,
   "metadata": {},
   "outputs": [],
   "source": []
  },
  {
   "cell_type": "code",
   "execution_count": null,
   "metadata": {},
   "outputs": [],
   "source": []
  }
 ],
 "metadata": {
  "kernelspec": {
   "display_name": "Python 3",
   "language": "python",
   "name": "python3"
  },
  "language_info": {
   "codemirror_mode": {
    "name": "ipython",
    "version": 3
   },
   "file_extension": ".py",
   "mimetype": "text/x-python",
   "name": "python",
   "nbconvert_exporter": "python",
   "pygments_lexer": "ipython3",
   "version": "3.8.5"
  }
 },
 "nbformat": 4,
 "nbformat_minor": 4
}
