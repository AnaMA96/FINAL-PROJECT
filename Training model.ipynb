{
 "cells": [
  {
   "cell_type": "code",
   "execution_count": 11,
   "metadata": {},
   "outputs": [],
   "source": [
    "import pandas as pd\n",
    "import numpy as np\n",
    "import json\n",
    "from keras import layers\n",
    "from keras import models\n",
    "from sklearn import preprocessing \n",
    "from keras.layers.normalization import BatchNormalization\n",
    "from keras.models import model_from_json\n",
    "from sklearn import preprocessing\n",
    "from sklearn.model_selection import train_test_split\n",
    "import tensorflow as tf\n",
    "import numpy as np\n",
    "#from audioFeatures import bothDF\n",
    "import ast"
   ]
  },
  {
   "cell_type": "code",
   "execution_count": 12,
   "metadata": {},
   "outputs": [],
   "source": [
    "def from_np_array(array_string):\n",
    "    array_string = ','.join(array_string.replace('[ ', '[').split())\n",
    "    return np.asarray(ast.literal_eval(array_string))"
   ]
  },
  {
   "cell_type": "code",
   "execution_count": 13,
   "metadata": {},
   "outputs": [
    {
     "data": {
      "text/plain": [
       "(3816, 2)"
      ]
     },
     "execution_count": 13,
     "metadata": {},
     "output_type": "execute_result"
    }
   ],
   "source": [
    "df_train = pd.read_pickle(\"./transformed_2.csv\")\n",
    "df_train.shape"
   ]
  },
  {
   "cell_type": "code",
   "execution_count": 14,
   "metadata": {},
   "outputs": [],
   "source": [
    "#df_train.loc[df_train.transform == 'violin', 'transform']"
   ]
  },
  {
   "cell_type": "code",
   "execution_count": 18,
   "metadata": {},
   "outputs": [],
   "source": [
    "X = np.vstack(df_train[\"transformed\"])\n",
    "#X= np.asarray(X).astype(np.float32)\n",
    "y = df_train.type\n",
    "\n"
   ]
  },
  {
   "cell_type": "code",
   "execution_count": null,
   "metadata": {},
   "outputs": [],
   "source": [
    "from sklearn.preprocessing import OneHotEncoder\n",
    "y = y.reshape(-1, 1)\n",
    "ohe = OneHotEncoder()\n",
    "y = ohe.fit_transform(y).toarray()\n",
    "\n"
   ]
  },
  {
   "cell_type": "code",
   "execution_count": 7,
   "metadata": {},
   "outputs": [
    {
     "name": "stdout",
     "output_type": "stream",
     "text": [
      "Epoch 1/50\n",
      "153/153 [==============================] - 34s 224ms/step - loss: 1.7724 - accuracy: 0.6543 - val_loss: 0.7018 - val_accuracy: 0.7670\n",
      "Epoch 2/50\n",
      "153/153 [==============================] - 51s 334ms/step - loss: 0.2425 - accuracy: 0.9302 - val_loss: 0.7635 - val_accuracy: 0.8024\n",
      "Epoch 3/50\n",
      "153/153 [==============================] - 34s 219ms/step - loss: 0.1552 - accuracy: 0.9545 - val_loss: 0.4174 - val_accuracy: 0.9346\n",
      "Epoch 4/50\n",
      "153/153 [==============================] - 38s 252ms/step - loss: 0.0922 - accuracy: 0.9708 - val_loss: 0.1879 - val_accuracy: 0.9542\n",
      "Epoch 5/50\n",
      "153/153 [==============================] - 45s 293ms/step - loss: 0.0735 - accuracy: 0.9744 - val_loss: 0.2097 - val_accuracy: 0.9529\n",
      "Epoch 6/50\n",
      "153/153 [==============================] - 43s 279ms/step - loss: 0.0915 - accuracy: 0.9744 - val_loss: 0.2134 - val_accuracy: 0.9463\n",
      "Epoch 7/50\n",
      "153/153 [==============================] - 45s 292ms/step - loss: 0.0649 - accuracy: 0.9803 - val_loss: 0.5902 - val_accuracy: 0.9647\n",
      "Epoch 8/50\n",
      "153/153 [==============================] - 43s 281ms/step - loss: 0.0557 - accuracy: 0.9820 - val_loss: 0.1270 - val_accuracy: 0.9647\n",
      "Epoch 9/50\n",
      "153/153 [==============================] - 63s 409ms/step - loss: 0.0518 - accuracy: 0.9862 - val_loss: 0.1594 - val_accuracy: 0.9516\n",
      "Epoch 10/50\n",
      "153/153 [==============================] - 53s 349ms/step - loss: 0.0253 - accuracy: 0.9915 - val_loss: 0.1320 - val_accuracy: 0.9764\n",
      "Epoch 11/50\n",
      "153/153 [==============================] - 68s 442ms/step - loss: 0.0408 - accuracy: 0.9875 - val_loss: 0.0812 - val_accuracy: 0.9817\n",
      "Epoch 12/50\n",
      "153/153 [==============================] - 74s 485ms/step - loss: 0.0273 - accuracy: 0.9925 - val_loss: 0.4304 - val_accuracy: 0.9581\n",
      "Epoch 13/50\n",
      "153/153 [==============================] - 44s 285ms/step - loss: 0.0329 - accuracy: 0.9898 - val_loss: 0.1505 - val_accuracy: 0.9725\n",
      "Epoch 14/50\n",
      "153/153 [==============================] - 54s 352ms/step - loss: 0.0494 - accuracy: 0.9839 - val_loss: 0.6108 - val_accuracy: 0.9332\n",
      "Epoch 15/50\n",
      "153/153 [==============================] - 51s 331ms/step - loss: 0.0341 - accuracy: 0.9882 - val_loss: 0.0609 - val_accuracy: 0.9830\n",
      "Epoch 16/50\n",
      "153/153 [==============================] - 66s 431ms/step - loss: 0.0279 - accuracy: 0.9902 - val_loss: 1.3860 - val_accuracy: 0.9607\n",
      "Epoch 17/50\n",
      "153/153 [==============================] - 67s 438ms/step - loss: 0.0154 - accuracy: 0.9961 - val_loss: 0.0877 - val_accuracy: 0.9764\n",
      "Epoch 18/50\n",
      "153/153 [==============================] - 61s 396ms/step - loss: 0.0180 - accuracy: 0.9944 - val_loss: 0.0979 - val_accuracy: 0.9830\n",
      "Epoch 19/50\n",
      "153/153 [==============================] - 57s 370ms/step - loss: 0.0172 - accuracy: 0.9941 - val_loss: 0.2580 - val_accuracy: 0.9620\n",
      "Epoch 20/50\n",
      "153/153 [==============================] - 53s 343ms/step - loss: 0.0358 - accuracy: 0.9872 - val_loss: 0.1269 - val_accuracy: 0.9791\n",
      "Epoch 21/50\n",
      "153/153 [==============================] - 48s 315ms/step - loss: 0.0328 - accuracy: 0.9902 - val_loss: 0.0846 - val_accuracy: 0.9673\n",
      "Epoch 22/50\n",
      "153/153 [==============================] - 35s 229ms/step - loss: 0.0361 - accuracy: 0.9898 - val_loss: 0.0436 - val_accuracy: 0.9869\n",
      "Epoch 23/50\n",
      "153/153 [==============================] - 34s 222ms/step - loss: 0.0280 - accuracy: 0.9934 - val_loss: 0.1212 - val_accuracy: 0.9699\n",
      "Epoch 24/50\n",
      "153/153 [==============================] - 35s 232ms/step - loss: 0.0150 - accuracy: 0.9941 - val_loss: 0.0621 - val_accuracy: 0.9882\n",
      "Epoch 25/50\n",
      "153/153 [==============================] - 34s 222ms/step - loss: 0.0192 - accuracy: 0.9948 - val_loss: 0.0789 - val_accuracy: 0.9843\n",
      "Epoch 26/50\n",
      "153/153 [==============================] - 34s 221ms/step - loss: 0.0598 - accuracy: 0.9839 - val_loss: 0.2611 - val_accuracy: 0.9634\n",
      "Epoch 27/50\n",
      "153/153 [==============================] - 33s 219ms/step - loss: 0.0198 - accuracy: 0.9944 - val_loss: 0.2246 - val_accuracy: 0.9751\n",
      "Epoch 28/50\n",
      "153/153 [==============================] - 35s 228ms/step - loss: 0.0110 - accuracy: 0.9967 - val_loss: 0.3218 - val_accuracy: 0.9686\n",
      "Epoch 29/50\n",
      "153/153 [==============================] - 33s 215ms/step - loss: 0.0209 - accuracy: 0.9964 - val_loss: 0.1412 - val_accuracy: 0.9843\n",
      "Epoch 30/50\n",
      "153/153 [==============================] - 33s 215ms/step - loss: 0.0033 - accuracy: 0.9987 - val_loss: 0.0990 - val_accuracy: 0.9843\n",
      "Epoch 31/50\n",
      "153/153 [==============================] - 34s 222ms/step - loss: 0.0078 - accuracy: 0.9980 - val_loss: 0.3668 - val_accuracy: 0.9869\n",
      "Epoch 32/50\n",
      "153/153 [==============================] - 33s 213ms/step - loss: 0.0044 - accuracy: 0.9987 - val_loss: 1.1125 - val_accuracy: 0.9882\n",
      "Epoch 33/50\n",
      "153/153 [==============================] - 41s 269ms/step - loss: 0.0022 - accuracy: 0.9997 - val_loss: 0.1811 - val_accuracy: 0.9908\n",
      "Epoch 34/50\n",
      "153/153 [==============================] - 33s 213ms/step - loss: 0.0083 - accuracy: 0.9977 - val_loss: 0.0961 - val_accuracy: 0.9869\n",
      "Epoch 35/50\n",
      "153/153 [==============================] - 31s 201ms/step - loss: 0.0050 - accuracy: 0.9987 - val_loss: 0.1576 - val_accuracy: 0.9869\n",
      "Epoch 36/50\n",
      "153/153 [==============================] - 33s 215ms/step - loss: 0.0349 - accuracy: 0.9918 - val_loss: 0.2315 - val_accuracy: 0.9777\n",
      "Epoch 37/50\n",
      "153/153 [==============================] - 39s 254ms/step - loss: 0.0143 - accuracy: 0.9961 - val_loss: 0.3863 - val_accuracy: 0.9660\n",
      "Epoch 38/50\n",
      "153/153 [==============================] - 31s 205ms/step - loss: 0.0310 - accuracy: 0.9921 - val_loss: 9.6213 - val_accuracy: 0.9450\n",
      "Epoch 39/50\n",
      "153/153 [==============================] - 29s 192ms/step - loss: 0.0365 - accuracy: 0.9879 - val_loss: 0.3322 - val_accuracy: 0.9830\n",
      "Epoch 40/50\n",
      "153/153 [==============================] - 30s 193ms/step - loss: 0.0256 - accuracy: 0.9938 - val_loss: 0.2647 - val_accuracy: 0.9830\n",
      "Epoch 41/50\n",
      "153/153 [==============================] - 28s 180ms/step - loss: 0.0141 - accuracy: 0.9961 - val_loss: 0.2068 - val_accuracy: 0.9856\n",
      "Epoch 42/50\n",
      "153/153 [==============================] - 30s 193ms/step - loss: 0.0080 - accuracy: 0.9971 - val_loss: 0.2378 - val_accuracy: 0.9830\n",
      "Epoch 43/50\n",
      "153/153 [==============================] - 31s 203ms/step - loss: 0.0043 - accuracy: 0.9984 - val_loss: 0.1968 - val_accuracy: 0.9895\n",
      "Epoch 44/50\n",
      "153/153 [==============================] - 30s 198ms/step - loss: 0.0024 - accuracy: 0.9993 - val_loss: 0.2066 - val_accuracy: 0.9856\n",
      "Epoch 45/50\n",
      "153/153 [==============================] - 29s 189ms/step - loss: 0.0169 - accuracy: 0.9951 - val_loss: 0.1631 - val_accuracy: 0.9830\n",
      "Epoch 46/50\n",
      "153/153 [==============================] - 32s 208ms/step - loss: 0.0104 - accuracy: 0.9957 - val_loss: 0.1033 - val_accuracy: 0.9804\n",
      "Epoch 47/50\n",
      "153/153 [==============================] - 32s 209ms/step - loss: 0.0126 - accuracy: 0.9961 - val_loss: 0.1050 - val_accuracy: 0.9817\n",
      "Epoch 48/50\n",
      "153/153 [==============================] - 29s 192ms/step - loss: 0.0337 - accuracy: 0.9921 - val_loss: 0.1406 - val_accuracy: 0.9673\n",
      "Epoch 49/50\n",
      "153/153 [==============================] - 28s 186ms/step - loss: 0.0116 - accuracy: 0.9957 - val_loss: 0.0403 - val_accuracy: 0.9882\n",
      "Epoch 50/50\n",
      "153/153 [==============================] - 31s 201ms/step - loss: 0.0152 - accuracy: 0.9967 - val_loss: 0.0725 - val_accuracy: 0.9843\n"
     ]
    },
    {
     "ename": "NameError",
     "evalue": "name 'training' is not defined",
     "output_type": "error",
     "traceback": [
      "\u001b[0;31m---------------------------------------------------------------------------\u001b[0m",
      "\u001b[0;31mNameError\u001b[0m                                 Traceback (most recent call last)",
      "\u001b[0;32m<ipython-input-7-9f5da0c380d4>\u001b[0m in \u001b[0;36m<module>\u001b[0;34m\u001b[0m\n\u001b[1;32m     30\u001b[0m \u001b[0mmodel\u001b[0m\u001b[0;34m.\u001b[0m\u001b[0msave_weights\u001b[0m\u001b[0;34m(\u001b[0m\u001b[0mname\u001b[0m\u001b[0;34m+\u001b[0m\u001b[0;34m'.h5'\u001b[0m\u001b[0;34m)\u001b[0m\u001b[0;34m\u001b[0m\u001b[0;34m\u001b[0m\u001b[0m\n\u001b[1;32m     31\u001b[0m \u001b[0;34m\u001b[0m\u001b[0m\n\u001b[0;32m---> 32\u001b[0;31m \u001b[0mtraining\u001b[0m\u001b[0;34m(\u001b[0m\u001b[0mX\u001b[0m\u001b[0;34m,\u001b[0m \u001b[0my\u001b[0m\u001b[0;34m)\u001b[0m\u001b[0;34m\u001b[0m\u001b[0;34m\u001b[0m\u001b[0m\n\u001b[0m\u001b[1;32m     33\u001b[0m \u001b[0;34m\u001b[0m\u001b[0m\n",
      "\u001b[0;31mNameError\u001b[0m: name 'training' is not defined"
     ]
    }
   ],
   "source": [
    "X_train, X_test, y_train, y_test = train_test_split(X, y,test_size=0.2)\n",
    "    \n",
    "number_classes= 2\n",
    "inshape=(X_train.shape[1],)\n",
    "\n",
    "\n",
    "model = models.Sequential()  #creates the neural network layers:\n",
    "model.add(layers.Dense(512, activation='relu', input_shape=inshape))\n",
    "model.add(layers.Dense(256, activation='relu'))\n",
    "model.add(BatchNormalization())\n",
    "model.add(layers.Dense(128, activation='relu'))\n",
    "model.add(layers.Dense(64, activation='relu'))\n",
    "\n",
    "model.add(layers.Dense(3816, activation='softmax'))\n",
    "model.compile(optimizer='adam',\n",
    "loss='sparse_categorical_crossentropy',\n",
    "metrics=['accuracy'])\n",
    "\n",
    "model.fit(X_train,\n",
    "        y_train,\n",
    "        epochs=50,\n",
    "        batch_size=20,\n",
    "        validation_data=(X_test, y_test))\n",
    "name='0.9034-accuracy-20batch_size-50epochs-loss1.0390'\n",
    "\n",
    "  \n",
    "model_json = model.to_json()\n",
    "with open(name+'.json', \"w\") as json_file:\n",
    "    json.dump(model_json, json_file)\n",
    "model.save_weights(name+'.h5')\n",
    "\n",
    "training(X, y)\n",
    "\n"
   ]
  },
  {
   "cell_type": "code",
   "execution_count": 8,
   "metadata": {},
   "outputs": [
    {
     "data": {
      "text/plain": [
       "array([[9.9973422e-01, 3.0052104e-06, 5.0365321e-07, ..., 2.3962741e-13,\n",
       "        2.5577676e-13, 3.2608879e-13],\n",
       "       [1.0000000e+00, 1.0348726e-16, 4.3132340e-17, ..., 7.4321549e-33,\n",
       "        4.8268325e-33, 3.1927279e-33],\n",
       "       [1.5043977e-10, 1.0000000e+00, 6.5551252e-11, ..., 1.6684058e-28,\n",
       "        2.9016777e-29, 2.0068687e-29],\n",
       "       ...,\n",
       "       [9.5925439e-04, 1.7400105e-02, 6.3308561e-03, ..., 6.0407515e-09,\n",
       "        3.4582754e-09, 4.3343409e-09],\n",
       "       [2.9644736e-03, 1.6075486e-02, 9.5990348e-01, ..., 9.8812528e-08,\n",
       "        9.7739395e-08, 5.6371523e-08],\n",
       "       [5.8289703e-07, 1.2107874e-09, 6.8593420e-09, ..., 1.7086684e-18,\n",
       "        7.5163669e-19, 8.0085207e-19]], dtype=float32)"
      ]
     },
     "execution_count": 8,
     "metadata": {},
     "output_type": "execute_result"
    }
   ],
   "source": [
    "y_pred = model.predict(X_test)\n",
    "y_pred\n"
   ]
  }
 ],
 "metadata": {
  "kernelspec": {
   "display_name": "Python 3",
   "language": "python",
   "name": "python3"
  },
  "language_info": {
   "codemirror_mode": {
    "name": "ipython",
    "version": 3
   },
   "file_extension": ".py",
   "mimetype": "text/x-python",
   "name": "python",
   "nbconvert_exporter": "python",
   "pygments_lexer": "ipython3",
   "version": "3.8.5"
  }
 },
 "nbformat": 4,
 "nbformat_minor": 4
}
