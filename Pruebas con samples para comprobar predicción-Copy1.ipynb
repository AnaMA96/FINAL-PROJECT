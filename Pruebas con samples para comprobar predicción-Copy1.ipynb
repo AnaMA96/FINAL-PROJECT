{
 "cells": [
  {
   "cell_type": "code",
   "execution_count": 1,
   "metadata": {},
   "outputs": [],
   "source": [
    "import pandas as pd\n",
    "import numpy as pd\n",
    "\n",
    "import pickle\n",
    "import joblib \n",
    "\n",
    "from pydub import AudioSegment\n",
    "import numpy as np\n",
    "from scipy.io.wavfile import read\n",
    "from scipy.fftpack import fft\n",
    "import pydub\n",
    "from scipy import signal\n",
    "import matplotlib.pyplot as plt\n",
    "import pandas as pd\n",
    "from sklearn.ensemble import GradientBoostingClassifier, RandomForestClassifier\n",
    "from sklearn.model_selection import train_test_split\n",
    "from sklearn.metrics import accuracy_score\n",
    "import speech_recognition as sr\n",
    "import csv\n",
    "from keras import layers\n",
    "from keras import models\n",
    "from sklearn import preprocessing \n",
    "from keras.layers.normalization import BatchNormalization\n",
    "from keras.models import model_from_json\n",
    "from sklearn import preprocessing\n",
    "from sklearn.model_selection import train_test_split\n",
    "import tensorflow as tf\n",
    "import numpy as np\n",
    "#from audioFeatures import bothDF\n",
    "import ast\n",
    "import os\n",
    "from keras.models import load_model"
   ]
  },
  {
   "cell_type": "code",
   "execution_count": 2,
   "metadata": {},
   "outputs": [],
   "source": [
    "df_validation = pd.read_pickle(\"./validation-bueno.csv\")\n",
    "\n",
    "instrument = df_validation[\"type\"]==\"female singer\"\n",
    "df_total = df_validation[instrument].iloc[[12]]\n"
   ]
  },
  {
   "cell_type": "code",
   "execution_count": 3,
   "metadata": {},
   "outputs": [],
   "source": [
    "from keras.models import load_model\n",
    "new_model = load_model(\"models/0.9829-accuracy-200000-50epochs-loss0.0823.h5\")"
   ]
  },
  {
   "cell_type": "code",
   "execution_count": 4,
   "metadata": {},
   "outputs": [],
   "source": [
    "X_test=np.vstack(df_total['transformed'])    "
   ]
  },
  {
   "cell_type": "code",
   "execution_count": 5,
   "metadata": {},
   "outputs": [
    {
     "data": {
      "text/plain": [
       "(1, 131072)"
      ]
     },
     "execution_count": 5,
     "metadata": {},
     "output_type": "execute_result"
    }
   ],
   "source": [
    "X_test.shape\n",
    "   "
   ]
  },
  {
   "cell_type": "code",
   "execution_count": 6,
   "metadata": {},
   "outputs": [
    {
     "name": "stdout",
     "output_type": "stream",
     "text": [
      "[[0.00156807 0.49351692 0.26870042 0.18985866 0.01586617 0.01072587\n",
      "  0.00066034 0.01910357]]\n"
     ]
    }
   ],
   "source": [
    "pred = new_model.predict(X_test)\n",
    "inst = pred[0].tolist()\n",
    "print(pred)\n",
    "\n"
   ]
  },
  {
   "cell_type": "code",
   "execution_count": 7,
   "metadata": {},
   "outputs": [
    {
     "data": {
      "text/plain": [
       "1"
      ]
     },
     "execution_count": 7,
     "metadata": {},
     "output_type": "execute_result"
    }
   ],
   "source": [
    "hola = inst.index(max(inst))\n",
    "hola"
   ]
  },
  {
   "cell_type": "code",
   "execution_count": 8,
   "metadata": {},
   "outputs": [
    {
     "name": "stdout",
     "output_type": "stream",
     "text": [
      "[0.0015680651413276792, 0.4935169219970703, 0.26870042085647583, 0.18985866010189056, 0.015866173431277275, 0.010725868865847588, 0.0006603358779102564, 0.01910357177257538]\n"
     ]
    }
   ],
   "source": [
    "print(inst)"
   ]
  },
  {
   "cell_type": "code",
   "execution_count": 9,
   "metadata": {},
   "outputs": [
    {
     "data": {
      "text/plain": [
       "8"
      ]
     },
     "execution_count": 9,
     "metadata": {},
     "output_type": "execute_result"
    }
   ],
   "source": [
    "len(inst)"
   ]
  },
  {
   "cell_type": "code",
   "execution_count": null,
   "metadata": {},
   "outputs": [],
   "source": []
  },
  {
   "cell_type": "code",
   "execution_count": 10,
   "metadata": {},
   "outputs": [
    {
     "data": {
      "text/plain": [
       "[0.0015680651413276792,\n",
       " 0.4935169219970703,\n",
       " 0.26870042085647583,\n",
       " 0.18985866010189056,\n",
       " 0.015866173431277275,\n",
       " 0.010725868865847588,\n",
       " 0.0006603358779102564,\n",
       " 0.01910357177257538]"
      ]
     },
     "execution_count": 10,
     "metadata": {},
     "output_type": "execute_result"
    }
   ],
   "source": [
    "inst"
   ]
  },
  {
   "cell_type": "code",
   "execution_count": 23,
   "metadata": {},
   "outputs": [],
   "source": [
    "def test(df_total):\n",
    "    new_model = load_model(\"models/0.9829-accuracy-200000-50epochs-loss0.0823.h5\")\n",
    "    X_test=np.vstack(df_total['transformed'])  \n",
    "    pred = new_model.predict(X_test)\n",
    "    for index in range(0, len(pred)):\n",
    "        inst = pred[index].tolist()\n",
    "        hola = inst.index(max(inst))\n",
    "        print(hola)"
   ]
  },
  {
   "cell_type": "code",
   "execution_count": 31,
   "metadata": {},
   "outputs": [
    {
     "name": "stdout",
     "output_type": "stream",
     "text": [
      "WARNING:tensorflow:11 out of the last 11 calls to <function Model.make_predict_function.<locals>.predict_function at 0x1465a1700> triggered tf.function retracing. Tracing is expensive and the excessive number of tracings could be due to (1) creating @tf.function repeatedly in a loop, (2) passing tensors with different shapes, (3) passing Python objects instead of tensors. For (1), please define your @tf.function outside of the loop. For (2), @tf.function has experimental_relax_shapes=True option that relaxes argument shapes that can avoid unnecessary retracing. For (3), please refer to https://www.tensorflow.org/tutorials/customization/performance#python_or_tensor_args and https://www.tensorflow.org/api_docs/python/tf/function for  more details.\n",
      "1\n",
      "1\n",
      "1\n",
      "1\n",
      "1\n",
      "1\n",
      "1\n",
      "1\n",
      "1\n",
      "1\n",
      "1\n",
      "1\n",
      "1\n",
      "1\n",
      "1\n",
      "1\n",
      "1\n",
      "1\n",
      "1\n",
      "1\n",
      "1\n",
      "1\n",
      "1\n",
      "1\n",
      "1\n",
      "1\n",
      "1\n",
      "7\n",
      "1\n"
     ]
    }
   ],
   "source": [
    "df_validation = pd.read_pickle(\"./validation-bueno.csv\")\n",
    "\n",
    "instrument = df_validation[\"type\"]==\"violin\"\n",
    "df_total = df_validation[instrument]\n",
    "\n",
    "test(df_total)"
   ]
  },
  {
   "cell_type": "code",
   "execution_count": null,
   "metadata": {},
   "outputs": [],
   "source": []
  }
 ],
 "metadata": {
  "kernelspec": {
   "display_name": "Python 3",
   "language": "python",
   "name": "python3"
  },
  "language_info": {
   "codemirror_mode": {
    "name": "ipython",
    "version": 3
   },
   "file_extension": ".py",
   "mimetype": "text/x-python",
   "name": "python",
   "nbconvert_exporter": "python",
   "pygments_lexer": "ipython3",
   "version": "3.8.5"
  }
 },
 "nbformat": 4,
 "nbformat_minor": 4
}
