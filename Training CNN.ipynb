{
 "cells": [
  {
   "cell_type": "code",
   "execution_count": 29,
   "metadata": {},
   "outputs": [],
   "source": [
    "import os\n",
    "import pickle\n",
    "import numpy as np\n",
    "import pandas as pd\n",
    "import matplotlib.pyplot as plt\n",
    "import seaborn as sns\n",
    "from sklearn.preprocessing import LabelEncoder, OneHotEncoder\n",
    "from sklearn.model_selection import train_test_split\n",
    "from sklearn.metrics import confusion_matrix\n",
    "from keras.layers import Conv2D, MaxPool2D, Flatten, Dense, Dropout\n",
    "from keras.models import Sequential\n",
    "from keras import models\n",
    "from keras import layers\n",
    "from sklearn import preprocessing \n",
    "import json\n",
    "from keras.layers.normalization import BatchNormalization\n",
    "from keras.models import model_from_json\n",
    "from sklearn.model_selection import train_test_split\n",
    "import tensorflow as tf\n",
    "import numpy as np\n",
    "#from audioFeatures import bothDF\n",
    "import ast\n",
    "\n"
   ]
  },
  {
   "cell_type": "code",
   "execution_count": 30,
   "metadata": {},
   "outputs": [
    {
     "data": {
      "text/plain": [
       "(3816, 2)"
      ]
     },
     "execution_count": 30,
     "metadata": {},
     "output_type": "execute_result"
    }
   ],
   "source": [
    "df_train = pd.read_pickle(\"./transformed_2.csv\")\n",
    "df_train.shape"
   ]
  },
  {
   "cell_type": "code",
   "execution_count": 49,
   "metadata": {},
   "outputs": [
    {
     "name": "stdout",
     "output_type": "stream",
     "text": [
      "0       distorted electric guitar\n",
      "1       distorted electric guitar\n",
      "2       distorted electric guitar\n",
      "3       distorted electric guitar\n",
      "4       distorted electric guitar\n",
      "                  ...            \n",
      "3811                       violin\n",
      "3812                       violin\n",
      "3813                       violin\n",
      "3814                       violin\n",
      "3815                       violin\n",
      "Name: type, Length: 3816, dtype: object\n"
     ]
    }
   ],
   "source": [
    "X = np.vstack(df_train[\"transformed\"])\n",
    "y = df_train.type\n",
    "\n",
    "print(y)"
   ]
  },
  {
   "cell_type": "code",
   "execution_count": 34,
   "metadata": {},
   "outputs": [
    {
     "name": "stdout",
     "output_type": "stream",
     "text": [
      "[1 1 1 ... 7 7 7]\n"
     ]
    }
   ],
   "source": [
    "label_encoder = LabelEncoder()\n",
    "label_encoded = label_encoder.fit_transform(df_train.type)\n",
    "print(label_encoded)\n"
   ]
  },
  {
   "cell_type": "code",
   "execution_count": 35,
   "metadata": {},
   "outputs": [
    {
     "name": "stdout",
     "output_type": "stream",
     "text": [
      "[[1]\n",
      " [1]\n",
      " [1]\n",
      " ...\n",
      " [7]\n",
      " [7]\n",
      " [7]]\n"
     ]
    }
   ],
   "source": [
    "label_encoded = label_encoded[:, np.newaxis]\n",
    "print(label_encoded)"
   ]
  },
  {
   "cell_type": "code",
   "execution_count": 36,
   "metadata": {},
   "outputs": [
    {
     "name": "stdout",
     "output_type": "stream",
     "text": [
      "[[0. 1. 0. ... 0. 0. 0.]\n",
      " [0. 1. 0. ... 0. 0. 0.]\n",
      " [0. 1. 0. ... 0. 0. 0.]\n",
      " ...\n",
      " [0. 0. 0. ... 0. 0. 1.]\n",
      " [0. 0. 0. ... 0. 0. 1.]\n",
      " [0. 0. 0. ... 0. 0. 1.]]\n"
     ]
    }
   ],
   "source": [
    "one_hot_encoder = OneHotEncoder(sparse=False)\n",
    "one_hot_encoded = one_hot_encoder.fit_transform(label_encoded)\n",
    "print(one_hot_encoded)\n"
   ]
  },
  {
   "cell_type": "code",
   "execution_count": 37,
   "metadata": {},
   "outputs": [],
   "source": [
    "X = np.vstack(df_train.transformed)\n",
    "y = one_hot_encoded\n"
   ]
  },
  {
   "cell_type": "code",
   "execution_count": 38,
   "metadata": {},
   "outputs": [],
   "source": [
    "X_train, X_test, y_train, y_test = train_test_split(X, y, test_size=0.2)\n"
   ]
  },
  {
   "cell_type": "code",
   "execution_count": 39,
   "metadata": {},
   "outputs": [
    {
     "name": "stdout",
     "output_type": "stream",
     "text": [
      "Epoch 1/50\n",
      "153/153 [==============================] - 96s 629ms/step - loss: 0.6096 - accuracy: 0.8159 - val_loss: 0.4477 - val_accuracy: 0.8770\n",
      "Epoch 2/50\n",
      "153/153 [==============================] - 100s 656ms/step - loss: 0.2291 - accuracy: 0.9269 - val_loss: 0.2669 - val_accuracy: 0.9215\n",
      "Epoch 3/50\n",
      "153/153 [==============================] - 99s 645ms/step - loss: 0.1332 - accuracy: 0.9600 - val_loss: 0.6685 - val_accuracy: 0.8678\n",
      "Epoch 4/50\n",
      "153/153 [==============================] - 100s 651ms/step - loss: 0.1102 - accuracy: 0.9676 - val_loss: 0.1695 - val_accuracy: 0.9490\n",
      "Epoch 5/50\n",
      "153/153 [==============================] - 98s 641ms/step - loss: 0.0881 - accuracy: 0.9751 - val_loss: 0.1689 - val_accuracy: 0.9490\n",
      "Epoch 6/50\n",
      "153/153 [==============================] - 101s 662ms/step - loss: 0.0692 - accuracy: 0.9751 - val_loss: 0.6944 - val_accuracy: 0.8927\n",
      "Epoch 7/50\n",
      "153/153 [==============================] - 98s 643ms/step - loss: 0.0928 - accuracy: 0.9699 - val_loss: 0.0749 - val_accuracy: 0.9791\n",
      "Epoch 8/50\n",
      "153/153 [==============================] - 102s 667ms/step - loss: 0.0659 - accuracy: 0.9784 - val_loss: 0.0844 - val_accuracy: 0.9686\n",
      "Epoch 9/50\n",
      "153/153 [==============================] - 106s 695ms/step - loss: 0.0658 - accuracy: 0.9817 - val_loss: 0.1238 - val_accuracy: 0.9660\n",
      "Epoch 10/50\n",
      "153/153 [==============================] - 95s 621ms/step - loss: 0.0475 - accuracy: 0.9846 - val_loss: 0.1758 - val_accuracy: 0.9725\n",
      "Epoch 11/50\n",
      "153/153 [==============================] - 84s 548ms/step - loss: 0.0718 - accuracy: 0.9774 - val_loss: 0.1842 - val_accuracy: 0.9607\n",
      "Epoch 12/50\n",
      "153/153 [==============================] - 81s 533ms/step - loss: 0.0317 - accuracy: 0.9898 - val_loss: 0.0843 - val_accuracy: 0.9869\n",
      "Epoch 13/50\n",
      "153/153 [==============================] - 84s 548ms/step - loss: 0.0299 - accuracy: 0.9879 - val_loss: 0.2393 - val_accuracy: 0.9699\n",
      "Epoch 14/50\n",
      "153/153 [==============================] - 87s 567ms/step - loss: 0.0401 - accuracy: 0.9866 - val_loss: 0.3279 - val_accuracy: 0.9411\n",
      "Epoch 15/50\n",
      "153/153 [==============================] - 85s 559ms/step - loss: 0.0519 - accuracy: 0.9846 - val_loss: 0.1124 - val_accuracy: 0.9764\n",
      "Epoch 16/50\n",
      "153/153 [==============================] - 87s 570ms/step - loss: 0.0304 - accuracy: 0.9902 - val_loss: 0.3612 - val_accuracy: 0.9686\n",
      "Epoch 17/50\n",
      "153/153 [==============================] - 86s 562ms/step - loss: 0.0254 - accuracy: 0.9934 - val_loss: 0.2015 - val_accuracy: 0.9869\n",
      "Epoch 18/50\n",
      "153/153 [==============================] - 87s 571ms/step - loss: 0.0306 - accuracy: 0.9912 - val_loss: 0.1531 - val_accuracy: 0.9751\n",
      "Epoch 19/50\n",
      "153/153 [==============================] - 109s 714ms/step - loss: 0.0130 - accuracy: 0.9957 - val_loss: 0.2584 - val_accuracy: 0.9856\n",
      "Epoch 20/50\n",
      "153/153 [==============================] - 120s 782ms/step - loss: 0.0436 - accuracy: 0.9882 - val_loss: 0.0405 - val_accuracy: 0.9895\n",
      "Epoch 21/50\n",
      "153/153 [==============================] - 116s 755ms/step - loss: 0.0196 - accuracy: 0.9951 - val_loss: 0.0698 - val_accuracy: 0.9830\n",
      "Epoch 22/50\n",
      "153/153 [==============================] - 116s 761ms/step - loss: 0.0372 - accuracy: 0.9895 - val_loss: 0.3247 - val_accuracy: 0.9254\n",
      "Epoch 23/50\n",
      "153/153 [==============================] - 118s 773ms/step - loss: 0.0413 - accuracy: 0.9856 - val_loss: 0.2273 - val_accuracy: 0.9804\n",
      "Epoch 24/50\n",
      "153/153 [==============================] - 108s 707ms/step - loss: 0.0157 - accuracy: 0.9951 - val_loss: 0.0907 - val_accuracy: 0.9869\n",
      "Epoch 25/50\n",
      "153/153 [==============================] - 86s 562ms/step - loss: 0.0337 - accuracy: 0.9895 - val_loss: 0.1027 - val_accuracy: 0.9673\n",
      "Epoch 26/50\n",
      "153/153 [==============================] - 83s 546ms/step - loss: 0.0235 - accuracy: 0.9925 - val_loss: 0.0614 - val_accuracy: 0.9830\n",
      "Epoch 27/50\n",
      "153/153 [==============================] - 85s 553ms/step - loss: 0.0283 - accuracy: 0.9915 - val_loss: 0.1465 - val_accuracy: 0.9738\n",
      "Epoch 28/50\n",
      "153/153 [==============================] - 91s 594ms/step - loss: 0.0163 - accuracy: 0.9944 - val_loss: 0.0702 - val_accuracy: 0.9895\n",
      "Epoch 29/50\n",
      "153/153 [==============================] - 105s 686ms/step - loss: 0.0187 - accuracy: 0.9941 - val_loss: 0.2469 - val_accuracy: 0.9843\n",
      "Epoch 30/50\n",
      "153/153 [==============================] - 113s 741ms/step - loss: 0.0436 - accuracy: 0.9872 - val_loss: 0.1231 - val_accuracy: 0.9620\n",
      "Epoch 31/50\n",
      "153/153 [==============================] - 124s 813ms/step - loss: 0.0356 - accuracy: 0.9895 - val_loss: 0.1651 - val_accuracy: 0.9908\n",
      "Epoch 32/50\n",
      "153/153 [==============================] - 134s 876ms/step - loss: 0.0231 - accuracy: 0.9925 - val_loss: 0.3113 - val_accuracy: 0.9843\n",
      "Epoch 33/50\n",
      "153/153 [==============================] - 135s 879ms/step - loss: 0.0278 - accuracy: 0.9915 - val_loss: 0.9865 - val_accuracy: 0.9882\n",
      "Epoch 34/50\n",
      "153/153 [==============================] - 137s 896ms/step - loss: 0.0259 - accuracy: 0.9925 - val_loss: 1.6354 - val_accuracy: 0.9843\n",
      "Epoch 35/50\n",
      "153/153 [==============================] - 134s 874ms/step - loss: 0.0282 - accuracy: 0.9921 - val_loss: 2.9656 - val_accuracy: 0.9660\n",
      "Epoch 36/50\n",
      "153/153 [==============================] - 136s 892ms/step - loss: 0.0235 - accuracy: 0.9931 - val_loss: 0.1794 - val_accuracy: 0.9738\n",
      "Epoch 37/50\n",
      "153/153 [==============================] - 137s 897ms/step - loss: 0.0236 - accuracy: 0.9948 - val_loss: 0.1233 - val_accuracy: 0.9856\n",
      "Epoch 38/50\n",
      "153/153 [==============================] - 135s 882ms/step - loss: 0.0111 - accuracy: 0.9961 - val_loss: 0.0766 - val_accuracy: 0.9817\n",
      "Epoch 39/50\n",
      "153/153 [==============================] - 138s 905ms/step - loss: 0.0044 - accuracy: 0.9993 - val_loss: 0.0806 - val_accuracy: 0.9856\n",
      "Epoch 40/50\n",
      "153/153 [==============================] - 139s 910ms/step - loss: 0.0055 - accuracy: 0.9984 - val_loss: 0.2518 - val_accuracy: 0.9843\n",
      "Epoch 41/50\n",
      "153/153 [==============================] - 144s 939ms/step - loss: 0.0119 - accuracy: 0.9987 - val_loss: 3.5862 - val_accuracy: 0.9817\n",
      "Epoch 42/50\n",
      "153/153 [==============================] - 142s 930ms/step - loss: 0.0181 - accuracy: 0.9961 - val_loss: 1075.7477 - val_accuracy: 0.9660\n",
      "Epoch 43/50\n",
      "153/153 [==============================] - 126s 826ms/step - loss: 0.0350 - accuracy: 0.9905 - val_loss: 0.0893 - val_accuracy: 0.9777\n",
      "Epoch 44/50\n",
      "153/153 [==============================] - 121s 794ms/step - loss: 0.0257 - accuracy: 0.9925 - val_loss: 0.1877 - val_accuracy: 0.9581\n",
      "Epoch 45/50\n",
      "153/153 [==============================] - 115s 750ms/step - loss: 0.0254 - accuracy: 0.9931 - val_loss: 0.1415 - val_accuracy: 0.9738\n",
      "Epoch 46/50\n",
      "153/153 [==============================] - 111s 725ms/step - loss: 0.0245 - accuracy: 0.9925 - val_loss: 26486378496.0000 - val_accuracy: 0.9817\n",
      "Epoch 47/50\n",
      "153/153 [==============================] - 109s 712ms/step - loss: 0.0230 - accuracy: 0.9941 - val_loss: 4.1597 - val_accuracy: 0.9830\n",
      "Epoch 48/50\n",
      "153/153 [==============================] - 110s 719ms/step - loss: 0.0126 - accuracy: 0.9964 - val_loss: 0.0638 - val_accuracy: 0.9908\n",
      "Epoch 49/50\n",
      "153/153 [==============================] - 110s 718ms/step - loss: 0.0048 - accuracy: 0.9984 - val_loss: 5.0924 - val_accuracy: 0.9869\n",
      "Epoch 50/50\n",
      "153/153 [==============================] - 112s 732ms/step - loss: 0.0169 - accuracy: 0.9957 - val_loss: 0.0824 - val_accuracy: 0.9830\n",
      "24/24 [==============================] - 1s 37ms/step - loss: 0.0824 - accuracy: 0.9830\n",
      "\n",
      "\n",
      "Resultados:  [0.0823548287153244, 0.9829843044281006]\n",
      "\n",
      "\n"
     ]
    }
   ],
   "source": [
    "number_classes = 8\n",
    "inshape = (X_train.shape[1],)\n",
    "\n",
    "\n",
    "model = models.Sequential()  #creates the neural network layers:\n",
    "\n",
    "model.add(layers.Dense(512, activation='relu', input_shape=inshape))\n",
    "model.add(layers.Dense(256, activation='relu'))\n",
    "model.add(BatchNormalization())\n",
    "model.add(layers.Dense(128, activation='relu'))\n",
    "model.add(layers.Dense(64, activation='relu'))\n",
    "\n",
    "model.add(layers.Dense(number_classes, activation='softmax'))\n",
    "model.compile(optimizer='Nadam',\n",
    "            loss='categorical_crossentropy',\n",
    "            metrics=['accuracy'])\n",
    "\n",
    "history = model.fit(X_train,\n",
    "        y_train,\n",
    "        epochs=50,\n",
    "        batch_size=20,\n",
    "        validation_data=(X_test, y_test))\n",
    "\n",
    "results = model.evaluate(X_test, y_test)\n",
    "print(\"\\n\")\n",
    "print(\"Resultados: \",results)\n",
    "print(\"\\n\")\n"
   ]
  },
  {
   "cell_type": "code",
   "execution_count": 48,
   "metadata": {},
   "outputs": [],
   "source": [
    "name=\"models/0.9829-accuracy-200000-50epochs-loss0.0823\"\n",
    "\n",
    "\n",
    "model_json = model.to_json()\n",
    "with open(name+'.json', \"w\") as json_file:\n",
    "    json.dump(model_json, json_file)\n",
    "model.save(name+'.h5')"
   ]
  },
  {
   "cell_type": "code",
   "execution_count": 40,
   "metadata": {},
   "outputs": [
    {
     "name": "stdout",
     "output_type": "stream",
     "text": [
      "loss: 0.016883237287402153\n",
      "val_loss: 0.08235479891300201\n"
     ]
    },
    {
     "data": {
      "image/png": "[encoded data removed]",
      "text/plain": [
       "<Figure size 576x576 with 1 Axes>"
      ]
     },
     "metadata": {
      "needs_background": "light"
     },
     "output_type": "display_data"
    }
   ],
   "source": [
    "# Displaying loss values\n",
    "\n",
    "plt.figure(figsize=(8,8))\n",
    "plt.title('Loss Value')\n",
    "plt.plot(history.history['loss'])\n",
    "plt.plot(history.history['val_loss'])\n",
    "plt.legend(['loss', 'val_loss'])\n",
    "print('loss:', history.history['loss'][-1])\n",
    "print('val_loss:', history.history['val_loss'][-1])\n",
    "plt.show()"
   ]
  },
  {
   "cell_type": "code",
   "execution_count": 41,
   "metadata": {},
   "outputs": [
    {
     "name": "stdout",
     "output_type": "stream",
     "text": [
      "accuracy: 0.9957404732704163\n",
      "val_accuracy: 0.9829843044281006\n"
     ]
    },
    {
     "data": {
      "image/png": "[encoded data removed]",
      "text/plain": [
       "<Figure size 576x576 with 1 Axes>"
      ]
     },
     "metadata": {
      "needs_background": "light"
     },
     "output_type": "display_data"
    }
   ],
   "source": [
    "# Displaying accuracy scores\n",
    "plt.figure(figsize=(8,8))\n",
    "plt.title('Accuracy')\n",
    "plt.plot(history.history['accuracy'])\n",
    "plt.plot(history.history['val_accuracy'])\n",
    "plt.legend(['accuracy', 'val_accuracy'])\n",
    "print('accuracy:', history.history['accuracy'][-1])\n",
    "print('val_accuracy:', history.history['val_accuracy'][-1])\n",
    "plt.show()\n"
   ]
  },
  {
   "cell_type": "code",
   "execution_count": 42,
   "metadata": {},
   "outputs": [
    {
     "data": {
      "text/plain": [
       "array([[4.4657397e-03, 3.0150295e-07, 9.8609030e-01, ..., 4.3469743e-05,\n",
       "        9.3892375e-03, 1.4711088e-07],\n",
       "       [2.8823417e-08, 5.9393349e-15, 7.3561190e-16, ..., 1.6267455e-12,\n",
       "        7.0050221e-10, 2.1455713e-13],\n",
       "       [5.2197569e-04, 7.6990062e-04, 6.8358507e-04, ..., 9.7578182e-04,\n",
       "        9.9426103e-01, 6.5678387e-04],\n",
       "       ...,\n",
       "       [1.9548870e-05, 1.6156150e-07, 1.9037277e-08, ..., 3.9562647e-06,\n",
       "        7.0658311e-06, 3.1330958e-07],\n",
       "       [1.1185095e-04, 5.6286594e-06, 9.9852055e-01, ..., 7.7987315e-06,\n",
       "        5.4536235e-07, 9.9548203e-08],\n",
       "       [6.4092041e-05, 1.6978742e-03, 3.2585165e-03, ..., 2.9202132e-05,\n",
       "        1.6705621e-05, 2.1785474e-05]], dtype=float32)"
      ]
     },
     "execution_count": 42,
     "metadata": {},
     "output_type": "execute_result"
    }
   ],
   "source": [
    "#Model evaluation\n",
    "\n",
    "predictions = model.predict(X_test)\n",
    "predictions"
   ]
  },
  {
   "cell_type": "code",
   "execution_count": 43,
   "metadata": {},
   "outputs": [],
   "source": [
    "'''The code below shows how to take the argmax of all predictions on X_test and \n",
    "then followed by decoding y_test into the same form as the predictions variable \n",
    "(because previously we already converted y_test into one-hot representation, now we need to convert \n",
    " that back to label-encoded form). This is extremely necessary to do because we want to compare each of \n",
    "the element of predictions and y_test.'''\n",
    "\n",
    "predictions = np.argmax(predictions, axis=1)\n",
    "y_test = one_hot_encoder.inverse_transform(y_test)\n"
   ]
  },
  {
   "cell_type": "code",
   "execution_count": 44,
   "metadata": {},
   "outputs": [
    {
     "data": {
      "image/png": "[encoded data removed]",
      "text/plain": [
       "<Figure size 576x576 with 1 Axes>"
      ]
     },
     "metadata": {
      "needs_background": "light"
     },
     "output_type": "display_data"
    }
   ],
   "source": [
    "# Creating confusion matrix\n",
    "cm = confusion_matrix(y_test, predictions)\n",
    "plt.figure(figsize=(8,8))\n",
    "sns.heatmap(cm, annot=True, xticklabels=label_encoder.classes_, yticklabels=label_encoder.classes_, fmt='d', cmap=plt.cm.Blues, cbar=False)\n",
    "plt.xlabel('Predicted Label')\n",
    "plt.ylabel('True Label')\n",
    "plt.show()"
   ]
  },
  {
   "cell_type": "code",
   "execution_count": null,
   "metadata": {},
   "outputs": [],
   "source": []
  }
 ],
 "metadata": {
  "kernelspec": {
   "display_name": "Python 3",
   "language": "python",
   "name": "python3"
  },
  "language_info": {
   "codemirror_mode": {
    "name": "ipython",
    "version": 3
   },
   "file_extension": ".py",
   "mimetype": "text/x-python",
   "name": "python",
   "nbconvert_exporter": "python",
   "pygments_lexer": "ipython3",
   "version": "3.8.5"
  }
 },
 "nbformat": 4,
 "nbformat_minor": 4
}
